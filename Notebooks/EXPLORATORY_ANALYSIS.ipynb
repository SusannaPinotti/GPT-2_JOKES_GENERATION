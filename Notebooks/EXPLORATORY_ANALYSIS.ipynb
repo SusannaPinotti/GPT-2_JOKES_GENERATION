{
  "nbformat": 4,
  "nbformat_minor": 0,
  "metadata": {
    "colab": {
      "provenance": [],
      "mount_file_id": "1HOtr5QqqdCEFNpC3M7t46Dv6TKR4fYur",
      "authorship_tag": "ABX9TyPs0h1m+T474xEipSEJ3QLK",
      "include_colab_link": true
    },
    "kernelspec": {
      "name": "python3",
      "display_name": "Python 3"
    },
    "language_info": {
      "name": "python"
    }
  },
  "cells": [
    {
      "cell_type": "markdown",
      "metadata": {
        "id": "view-in-github",
        "colab_type": "text"
      },
      "source": [
        "<a href=\"https://colab.research.google.com/github/SusannaPinotti/GPT-2_JOKES_GENERATION/blob/main/EXPLORATORY_ANALYSIS.ipynb\" target=\"_parent\"><img src=\"https://colab.research.google.com/assets/colab-badge.svg\" alt=\"Open In Colab\"/></a>"
      ]
    },
    {
      "cell_type": "code",
      "execution_count": null,
      "metadata": {
        "id": "rd7jRTPNKkMy"
      },
      "outputs": [],
      "source": [
        "import pandas as pd \n",
        "import nltk \n",
        "import re \n"
      ]
    },
    {
      "cell_type": "code",
      "source": [
        "data = pd.read_csv(\"/content/drive/MyDrive/JKS.csv\")\n",
        "data.head(30)"
      ],
      "metadata": {
        "colab": {
          "base_uri": "https://localhost:8080/",
          "height": 990
        },
        "id": "z9aKK909LbxP",
        "outputId": "40386f62-9d5f-4357-89d5-6a387cc8bf2b"
      },
      "execution_count": null,
      "outputs": [
        {
          "output_type": "execute_result",
          "data": {
            "text/plain": [
              "                                                 Joke\n",
              "0   [me narrating a documentary about narrators] \"...\n",
              "1   Telling my daughter garlic is good for you. Go...\n",
              "2   I've been going through a really rough period ...\n",
              "3   If I could have dinner with anyone, dead or al...\n",
              "4      Two guys walk into a bar. The third guy ducks.\n",
              "5   Why can't Barbie get pregnant? Because Ken com...\n",
              "6    Why was the musician arrested? He got in treble.\n",
              "7   Did you hear about the guy who blew his entire...\n",
              "8   What do you do if a bird shits on your car? Do...\n",
              "9   He was a real gentlemen and always opened the ...\n",
              "10  Telling my daugthers date that \"she has lice a...\n",
              "11  What should you do before criticizing Pac-Man?...\n",
              "12  What's the difference between an illegal Mexic...\n",
              "13  What do you call a barbarian you can't see? an...\n",
              "14             How do you spell Canda? C,eh,N,eh,D,eh\n",
              "15  You ever notice that the most dangerous thing ...\n",
              "16  What did Arnold Schwarzenegger say at the abor...\n",
              "17  My wife is in a bad mood. I think her boyfrien...\n",
              "18  My speech today will be like a mini-skirt. Lon...\n",
              "19  Thanksgiving joke What does Miley Cyrus eat fo...\n",
              "20  Why do you never see elephants hiding in trees...\n",
              "21  How did the blonde die raking leaves? She fell...\n",
              "22  \"That guy is such a douche-bag! Is he single? ...\n",
              "23  My son just got a tattoo of a heart, a spade, ...\n",
              "24        What do you call a potato in space? Spudnik\n",
              "25                       How to get a cop's attention\n",
              "26  What happens to a necrophiliac after death? Re...\n",
              "27  Why did the chicken hold a seance? To get to t...\n",
              "28  Where do baby cows go to eat lunch? At the cal...\n",
              "29  What's the difference between a painting and J..."
            ],
            "text/html": [
              "\n",
              "  <div id=\"df-30176766-0372-41b7-b8e7-5c15470fe4fb\">\n",
              "    <div class=\"colab-df-container\">\n",
              "      <div>\n",
              "<style scoped>\n",
              "    .dataframe tbody tr th:only-of-type {\n",
              "        vertical-align: middle;\n",
              "    }\n",
              "\n",
              "    .dataframe tbody tr th {\n",
              "        vertical-align: top;\n",
              "    }\n",
              "\n",
              "    .dataframe thead th {\n",
              "        text-align: right;\n",
              "    }\n",
              "</style>\n",
              "<table border=\"1\" class=\"dataframe\">\n",
              "  <thead>\n",
              "    <tr style=\"text-align: right;\">\n",
              "      <th></th>\n",
              "      <th>Joke</th>\n",
              "    </tr>\n",
              "  </thead>\n",
              "  <tbody>\n",
              "    <tr>\n",
              "      <th>0</th>\n",
              "      <td>[me narrating a documentary about narrators] \"...</td>\n",
              "    </tr>\n",
              "    <tr>\n",
              "      <th>1</th>\n",
              "      <td>Telling my daughter garlic is good for you. Go...</td>\n",
              "    </tr>\n",
              "    <tr>\n",
              "      <th>2</th>\n",
              "      <td>I've been going through a really rough period ...</td>\n",
              "    </tr>\n",
              "    <tr>\n",
              "      <th>3</th>\n",
              "      <td>If I could have dinner with anyone, dead or al...</td>\n",
              "    </tr>\n",
              "    <tr>\n",
              "      <th>4</th>\n",
              "      <td>Two guys walk into a bar. The third guy ducks.</td>\n",
              "    </tr>\n",
              "    <tr>\n",
              "      <th>5</th>\n",
              "      <td>Why can't Barbie get pregnant? Because Ken com...</td>\n",
              "    </tr>\n",
              "    <tr>\n",
              "      <th>6</th>\n",
              "      <td>Why was the musician arrested? He got in treble.</td>\n",
              "    </tr>\n",
              "    <tr>\n",
              "      <th>7</th>\n",
              "      <td>Did you hear about the guy who blew his entire...</td>\n",
              "    </tr>\n",
              "    <tr>\n",
              "      <th>8</th>\n",
              "      <td>What do you do if a bird shits on your car? Do...</td>\n",
              "    </tr>\n",
              "    <tr>\n",
              "      <th>9</th>\n",
              "      <td>He was a real gentlemen and always opened the ...</td>\n",
              "    </tr>\n",
              "    <tr>\n",
              "      <th>10</th>\n",
              "      <td>Telling my daugthers date that \"she has lice a...</td>\n",
              "    </tr>\n",
              "    <tr>\n",
              "      <th>11</th>\n",
              "      <td>What should you do before criticizing Pac-Man?...</td>\n",
              "    </tr>\n",
              "    <tr>\n",
              "      <th>12</th>\n",
              "      <td>What's the difference between an illegal Mexic...</td>\n",
              "    </tr>\n",
              "    <tr>\n",
              "      <th>13</th>\n",
              "      <td>What do you call a barbarian you can't see? an...</td>\n",
              "    </tr>\n",
              "    <tr>\n",
              "      <th>14</th>\n",
              "      <td>How do you spell Canda? C,eh,N,eh,D,eh</td>\n",
              "    </tr>\n",
              "    <tr>\n",
              "      <th>15</th>\n",
              "      <td>You ever notice that the most dangerous thing ...</td>\n",
              "    </tr>\n",
              "    <tr>\n",
              "      <th>16</th>\n",
              "      <td>What did Arnold Schwarzenegger say at the abor...</td>\n",
              "    </tr>\n",
              "    <tr>\n",
              "      <th>17</th>\n",
              "      <td>My wife is in a bad mood. I think her boyfrien...</td>\n",
              "    </tr>\n",
              "    <tr>\n",
              "      <th>18</th>\n",
              "      <td>My speech today will be like a mini-skirt. Lon...</td>\n",
              "    </tr>\n",
              "    <tr>\n",
              "      <th>19</th>\n",
              "      <td>Thanksgiving joke What does Miley Cyrus eat fo...</td>\n",
              "    </tr>\n",
              "    <tr>\n",
              "      <th>20</th>\n",
              "      <td>Why do you never see elephants hiding in trees...</td>\n",
              "    </tr>\n",
              "    <tr>\n",
              "      <th>21</th>\n",
              "      <td>How did the blonde die raking leaves? She fell...</td>\n",
              "    </tr>\n",
              "    <tr>\n",
              "      <th>22</th>\n",
              "      <td>\"That guy is such a douche-bag! Is he single? ...</td>\n",
              "    </tr>\n",
              "    <tr>\n",
              "      <th>23</th>\n",
              "      <td>My son just got a tattoo of a heart, a spade, ...</td>\n",
              "    </tr>\n",
              "    <tr>\n",
              "      <th>24</th>\n",
              "      <td>What do you call a potato in space? Spudnik</td>\n",
              "    </tr>\n",
              "    <tr>\n",
              "      <th>25</th>\n",
              "      <td>How to get a cop's attention</td>\n",
              "    </tr>\n",
              "    <tr>\n",
              "      <th>26</th>\n",
              "      <td>What happens to a necrophiliac after death? Re...</td>\n",
              "    </tr>\n",
              "    <tr>\n",
              "      <th>27</th>\n",
              "      <td>Why did the chicken hold a seance? To get to t...</td>\n",
              "    </tr>\n",
              "    <tr>\n",
              "      <th>28</th>\n",
              "      <td>Where do baby cows go to eat lunch? At the cal...</td>\n",
              "    </tr>\n",
              "    <tr>\n",
              "      <th>29</th>\n",
              "      <td>What's the difference between a painting and J...</td>\n",
              "    </tr>\n",
              "  </tbody>\n",
              "</table>\n",
              "</div>\n",
              "      <button class=\"colab-df-convert\" onclick=\"convertToInteractive('df-30176766-0372-41b7-b8e7-5c15470fe4fb')\"\n",
              "              title=\"Convert this dataframe to an interactive table.\"\n",
              "              style=\"display:none;\">\n",
              "        \n",
              "  <svg xmlns=\"http://www.w3.org/2000/svg\" height=\"24px\"viewBox=\"0 0 24 24\"\n",
              "       width=\"24px\">\n",
              "    <path d=\"M0 0h24v24H0V0z\" fill=\"none\"/>\n",
              "    <path d=\"M18.56 5.44l.94 2.06.94-2.06 2.06-.94-2.06-.94-.94-2.06-.94 2.06-2.06.94zm-11 1L8.5 8.5l.94-2.06 2.06-.94-2.06-.94L8.5 2.5l-.94 2.06-2.06.94zm10 10l.94 2.06.94-2.06 2.06-.94-2.06-.94-.94-2.06-.94 2.06-2.06.94z\"/><path d=\"M17.41 7.96l-1.37-1.37c-.4-.4-.92-.59-1.43-.59-.52 0-1.04.2-1.43.59L10.3 9.45l-7.72 7.72c-.78.78-.78 2.05 0 2.83L4 21.41c.39.39.9.59 1.41.59.51 0 1.02-.2 1.41-.59l7.78-7.78 2.81-2.81c.8-.78.8-2.07 0-2.86zM5.41 20L4 18.59l7.72-7.72 1.47 1.35L5.41 20z\"/>\n",
              "  </svg>\n",
              "      </button>\n",
              "      \n",
              "  <style>\n",
              "    .colab-df-container {\n",
              "      display:flex;\n",
              "      flex-wrap:wrap;\n",
              "      gap: 12px;\n",
              "    }\n",
              "\n",
              "    .colab-df-convert {\n",
              "      background-color: #E8F0FE;\n",
              "      border: none;\n",
              "      border-radius: 50%;\n",
              "      cursor: pointer;\n",
              "      display: none;\n",
              "      fill: #1967D2;\n",
              "      height: 32px;\n",
              "      padding: 0 0 0 0;\n",
              "      width: 32px;\n",
              "    }\n",
              "\n",
              "    .colab-df-convert:hover {\n",
              "      background-color: #E2EBFA;\n",
              "      box-shadow: 0px 1px 2px rgba(60, 64, 67, 0.3), 0px 1px 3px 1px rgba(60, 64, 67, 0.15);\n",
              "      fill: #174EA6;\n",
              "    }\n",
              "\n",
              "    [theme=dark] .colab-df-convert {\n",
              "      background-color: #3B4455;\n",
              "      fill: #D2E3FC;\n",
              "    }\n",
              "\n",
              "    [theme=dark] .colab-df-convert:hover {\n",
              "      background-color: #434B5C;\n",
              "      box-shadow: 0px 1px 3px 1px rgba(0, 0, 0, 0.15);\n",
              "      filter: drop-shadow(0px 1px 2px rgba(0, 0, 0, 0.3));\n",
              "      fill: #FFFFFF;\n",
              "    }\n",
              "  </style>\n",
              "\n",
              "      <script>\n",
              "        const buttonEl =\n",
              "          document.querySelector('#df-30176766-0372-41b7-b8e7-5c15470fe4fb button.colab-df-convert');\n",
              "        buttonEl.style.display =\n",
              "          google.colab.kernel.accessAllowed ? 'block' : 'none';\n",
              "\n",
              "        async function convertToInteractive(key) {\n",
              "          const element = document.querySelector('#df-30176766-0372-41b7-b8e7-5c15470fe4fb');\n",
              "          const dataTable =\n",
              "            await google.colab.kernel.invokeFunction('convertToInteractive',\n",
              "                                                     [key], {});\n",
              "          if (!dataTable) return;\n",
              "\n",
              "          const docLinkHtml = 'Like what you see? Visit the ' +\n",
              "            '<a target=\"_blank\" href=https://colab.research.google.com/notebooks/data_table.ipynb>data table notebook</a>'\n",
              "            + ' to learn more about interactive tables.';\n",
              "          element.innerHTML = '';\n",
              "          dataTable['output_type'] = 'display_data';\n",
              "          await google.colab.output.renderOutput(dataTable, element);\n",
              "          const docLink = document.createElement('div');\n",
              "          docLink.innerHTML = docLinkHtml;\n",
              "          element.appendChild(docLink);\n",
              "        }\n",
              "      </script>\n",
              "    </div>\n",
              "  </div>\n",
              "  "
            ]
          },
          "metadata": {},
          "execution_count": 2
        }
      ]
    },
    {
      "cell_type": "code",
      "source": [
        "lengths = []\n",
        "for jk in data['Joke']: \n",
        "    l = len(jk)\n",
        "    lengths.append(l)\n",
        "\n",
        "#print(len(lengths))\n",
        "from functools import reduce\n",
        "  \n",
        "def Average(lst):\n",
        "    return reduce(lambda a, b: a + b, lst) / len(lst)\n",
        "\n",
        "average = Average(lengths)\n",
        "import statistics\n",
        "#lunghezza media delle sequenze nel dataset:\n",
        "print(\"Average length of the jokes =\", round(average, 2))\n",
        "print('StDev = ', statistics.stdev(lengths))"
      ],
      "metadata": {
        "colab": {
          "base_uri": "https://localhost:8080/"
        },
        "id": "ZpoeoZR6gX8U",
        "outputId": "67028c93-6520-4bc3-d270-ce8da484a8d5"
      },
      "execution_count": null,
      "outputs": [
        {
          "output_type": "stream",
          "name": "stdout",
          "text": [
            "Average length of the jokes = 93.05\n",
            "StDev =  35.25904242461935\n"
          ]
        }
      ]
    },
    {
      "cell_type": "code",
      "source": [
        "from nltk.corpus import stopwords\n",
        "from nltk.tokenize import word_tokenize\n",
        "nltk.download('punkt')\n",
        "nltk.download('stopwords')\n",
        "import string\n"
      ],
      "metadata": {
        "colab": {
          "base_uri": "https://localhost:8080/"
        },
        "id": "xhOnNtVsLiF2",
        "outputId": "479a5be6-289d-4618-ea52-2fe414eddeb5"
      },
      "execution_count": null,
      "outputs": [
        {
          "output_type": "stream",
          "name": "stderr",
          "text": [
            "[nltk_data] Downloading package punkt to /root/nltk_data...\n",
            "[nltk_data]   Unzipping tokenizers/punkt.zip.\n",
            "[nltk_data] Downloading package stopwords to /root/nltk_data...\n",
            "[nltk_data]   Unzipping corpora/stopwords.zip.\n"
          ]
        }
      ]
    },
    {
      "cell_type": "code",
      "source": [
        "data['Joke']= data[\"Joke\"].map(lambda x: x.lower()) #lowercase\n",
        "data['Joke']= data['Joke'].map(lambda x: re.sub('[0-9]', '', x))"
      ],
      "metadata": {
        "id": "DVsRimCxZpkT"
      },
      "execution_count": null,
      "outputs": []
    },
    {
      "cell_type": "code",
      "source": [
        "#remove punks, lowercase all, stopwords, tokenize \n",
        "stops = stopwords.words('english')\n",
        "stops.extend(['.', '!', \"'\", \",\", \"?\", \"\\\\\", \"/\", \"'ve\", \"'s\", \"'d\", '``', \"*\",\n",
        "              \":\", \";\", \"n't\", \"...\",\"'ll\",\"'m\", \"'t\", \"'re\",\"[\", \"]\", '\"', \"(\", \")\",\n",
        "              'one', \"can't\",\"got\", \"ca n't\", \"get\", 'ca', \"''\"])\n",
        "def clean(text, stop): \n",
        "    tokens = word_tokenize(text)\n",
        "    #remove stopwords \n",
        "    out = [t for t in tokens if t not in stop]\n",
        "    return \" \".join(out)\n",
        "\n",
        "c = []\n",
        "for jk in data['Joke']:\n",
        "    jk = clean(jk, stops)\n",
        "    c.append(jk)\n",
        "\n",
        "clean_data = pd.DataFrame(data = c, )\n",
        "clean_data.head()\n"
      ],
      "metadata": {
        "id": "3yV43LDtL5gr",
        "colab": {
          "base_uri": "https://localhost:8080/",
          "height": 206
        },
        "outputId": "af47e33e-7efe-4017-bf09-e74a58e5e7e7"
      },
      "execution_count": null,
      "outputs": [
        {
          "output_type": "execute_result",
          "data": {
            "text/plain": [
              "                                                   0\n",
              "0  narrating documentary narrators hear saying cu...\n",
              "1  telling daughter garlic good good immune syste...\n",
              "2  going really rough period work week fault swap...\n",
              "3  could dinner anyone dead alive would choose al...\n",
              "4                  two guys walk bar third guy ducks"
            ],
            "text/html": [
              "\n",
              "  <div id=\"df-11c5a49e-821a-4c59-9b74-57c90688ef32\">\n",
              "    <div class=\"colab-df-container\">\n",
              "      <div>\n",
              "<style scoped>\n",
              "    .dataframe tbody tr th:only-of-type {\n",
              "        vertical-align: middle;\n",
              "    }\n",
              "\n",
              "    .dataframe tbody tr th {\n",
              "        vertical-align: top;\n",
              "    }\n",
              "\n",
              "    .dataframe thead th {\n",
              "        text-align: right;\n",
              "    }\n",
              "</style>\n",
              "<table border=\"1\" class=\"dataframe\">\n",
              "  <thead>\n",
              "    <tr style=\"text-align: right;\">\n",
              "      <th></th>\n",
              "      <th>0</th>\n",
              "    </tr>\n",
              "  </thead>\n",
              "  <tbody>\n",
              "    <tr>\n",
              "      <th>0</th>\n",
              "      <td>narrating documentary narrators hear saying cu...</td>\n",
              "    </tr>\n",
              "    <tr>\n",
              "      <th>1</th>\n",
              "      <td>telling daughter garlic good good immune syste...</td>\n",
              "    </tr>\n",
              "    <tr>\n",
              "      <th>2</th>\n",
              "      <td>going really rough period work week fault swap...</td>\n",
              "    </tr>\n",
              "    <tr>\n",
              "      <th>3</th>\n",
              "      <td>could dinner anyone dead alive would choose al...</td>\n",
              "    </tr>\n",
              "    <tr>\n",
              "      <th>4</th>\n",
              "      <td>two guys walk bar third guy ducks</td>\n",
              "    </tr>\n",
              "  </tbody>\n",
              "</table>\n",
              "</div>\n",
              "      <button class=\"colab-df-convert\" onclick=\"convertToInteractive('df-11c5a49e-821a-4c59-9b74-57c90688ef32')\"\n",
              "              title=\"Convert this dataframe to an interactive table.\"\n",
              "              style=\"display:none;\">\n",
              "        \n",
              "  <svg xmlns=\"http://www.w3.org/2000/svg\" height=\"24px\"viewBox=\"0 0 24 24\"\n",
              "       width=\"24px\">\n",
              "    <path d=\"M0 0h24v24H0V0z\" fill=\"none\"/>\n",
              "    <path d=\"M18.56 5.44l.94 2.06.94-2.06 2.06-.94-2.06-.94-.94-2.06-.94 2.06-2.06.94zm-11 1L8.5 8.5l.94-2.06 2.06-.94-2.06-.94L8.5 2.5l-.94 2.06-2.06.94zm10 10l.94 2.06.94-2.06 2.06-.94-2.06-.94-.94-2.06-.94 2.06-2.06.94z\"/><path d=\"M17.41 7.96l-1.37-1.37c-.4-.4-.92-.59-1.43-.59-.52 0-1.04.2-1.43.59L10.3 9.45l-7.72 7.72c-.78.78-.78 2.05 0 2.83L4 21.41c.39.39.9.59 1.41.59.51 0 1.02-.2 1.41-.59l7.78-7.78 2.81-2.81c.8-.78.8-2.07 0-2.86zM5.41 20L4 18.59l7.72-7.72 1.47 1.35L5.41 20z\"/>\n",
              "  </svg>\n",
              "      </button>\n",
              "      \n",
              "  <style>\n",
              "    .colab-df-container {\n",
              "      display:flex;\n",
              "      flex-wrap:wrap;\n",
              "      gap: 12px;\n",
              "    }\n",
              "\n",
              "    .colab-df-convert {\n",
              "      background-color: #E8F0FE;\n",
              "      border: none;\n",
              "      border-radius: 50%;\n",
              "      cursor: pointer;\n",
              "      display: none;\n",
              "      fill: #1967D2;\n",
              "      height: 32px;\n",
              "      padding: 0 0 0 0;\n",
              "      width: 32px;\n",
              "    }\n",
              "\n",
              "    .colab-df-convert:hover {\n",
              "      background-color: #E2EBFA;\n",
              "      box-shadow: 0px 1px 2px rgba(60, 64, 67, 0.3), 0px 1px 3px 1px rgba(60, 64, 67, 0.15);\n",
              "      fill: #174EA6;\n",
              "    }\n",
              "\n",
              "    [theme=dark] .colab-df-convert {\n",
              "      background-color: #3B4455;\n",
              "      fill: #D2E3FC;\n",
              "    }\n",
              "\n",
              "    [theme=dark] .colab-df-convert:hover {\n",
              "      background-color: #434B5C;\n",
              "      box-shadow: 0px 1px 3px 1px rgba(0, 0, 0, 0.15);\n",
              "      filter: drop-shadow(0px 1px 2px rgba(0, 0, 0, 0.3));\n",
              "      fill: #FFFFFF;\n",
              "    }\n",
              "  </style>\n",
              "\n",
              "      <script>\n",
              "        const buttonEl =\n",
              "          document.querySelector('#df-11c5a49e-821a-4c59-9b74-57c90688ef32 button.colab-df-convert');\n",
              "        buttonEl.style.display =\n",
              "          google.colab.kernel.accessAllowed ? 'block' : 'none';\n",
              "\n",
              "        async function convertToInteractive(key) {\n",
              "          const element = document.querySelector('#df-11c5a49e-821a-4c59-9b74-57c90688ef32');\n",
              "          const dataTable =\n",
              "            await google.colab.kernel.invokeFunction('convertToInteractive',\n",
              "                                                     [key], {});\n",
              "          if (!dataTable) return;\n",
              "\n",
              "          const docLinkHtml = 'Like what you see? Visit the ' +\n",
              "            '<a target=\"_blank\" href=https://colab.research.google.com/notebooks/data_table.ipynb>data table notebook</a>'\n",
              "            + ' to learn more about interactive tables.';\n",
              "          element.innerHTML = '';\n",
              "          dataTable['output_type'] = 'display_data';\n",
              "          await google.colab.output.renderOutput(dataTable, element);\n",
              "          const docLink = document.createElement('div');\n",
              "          docLink.innerHTML = docLinkHtml;\n",
              "          element.appendChild(docLink);\n",
              "        }\n",
              "      </script>\n",
              "    </div>\n",
              "  </div>\n",
              "  "
            ]
          },
          "metadata": {},
          "execution_count": 7
        }
      ]
    },
    {
      "cell_type": "code",
      "source": [
        "#exploratory analysis \n",
        "!pip install wordcloud\n",
        "from wordcloud import WordCloud\n"
      ],
      "metadata": {
        "colab": {
          "base_uri": "https://localhost:8080/"
        },
        "id": "fErXNY8Heztn",
        "outputId": "c3f0a38f-3525-4e97-fbaa-381756333183"
      },
      "execution_count": null,
      "outputs": [
        {
          "output_type": "stream",
          "name": "stdout",
          "text": [
            "Looking in indexes: https://pypi.org/simple, https://us-python.pkg.dev/colab-wheels/public/simple/\n",
            "Requirement already satisfied: wordcloud in /usr/local/lib/python3.7/dist-packages (1.8.2.2)\n",
            "Requirement already satisfied: matplotlib in /usr/local/lib/python3.7/dist-packages (from wordcloud) (3.2.2)\n",
            "Requirement already satisfied: numpy>=1.6.1 in /usr/local/lib/python3.7/dist-packages (from wordcloud) (1.21.6)\n",
            "Requirement already satisfied: pillow in /usr/local/lib/python3.7/dist-packages (from wordcloud) (7.1.2)\n",
            "Requirement already satisfied: pyparsing!=2.0.4,!=2.1.2,!=2.1.6,>=2.0.1 in /usr/local/lib/python3.7/dist-packages (from matplotlib->wordcloud) (3.0.9)\n",
            "Requirement already satisfied: cycler>=0.10 in /usr/local/lib/python3.7/dist-packages (from matplotlib->wordcloud) (0.11.0)\n",
            "Requirement already satisfied: python-dateutil>=2.1 in /usr/local/lib/python3.7/dist-packages (from matplotlib->wordcloud) (2.8.2)\n",
            "Requirement already satisfied: kiwisolver>=1.0.1 in /usr/local/lib/python3.7/dist-packages (from matplotlib->wordcloud) (1.4.4)\n",
            "Requirement already satisfied: typing-extensions in /usr/local/lib/python3.7/dist-packages (from kiwisolver>=1.0.1->matplotlib->wordcloud) (4.1.1)\n",
            "Requirement already satisfied: six>=1.5 in /usr/local/lib/python3.7/dist-packages (from python-dateutil>=2.1->matplotlib->wordcloud) (1.15.0)\n"
          ]
        }
      ]
    },
    {
      "cell_type": "code",
      "source": [
        "#join stirngs from c list of strings \n",
        "full_text = \" \".join(c)\n",
        "cloud = WordCloud(width = 600, height = 500, background_color= 'white', max_words = 1000, \n",
        "                      contour_width= 10, contour_color= \"steelblue\")\n",
        "cloud.generate(full_text)\n",
        "cloud.to_image()\n",
        "cloud.to_file('/content/drive/MyDrive/jokes_project/images/word_cloud.png')"
      ],
      "metadata": {
        "colab": {
          "base_uri": "https://localhost:8080/"
        },
        "id": "c5INPD4jlLUI",
        "outputId": "4dbc21a1-4ab5-4e7c-bb6d-45b072dc2a26"
      },
      "execution_count": null,
      "outputs": [
        {
          "output_type": "execute_result",
          "data": {
            "text/plain": [
              "<wordcloud.wordcloud.WordCloud at 0x7f8c998b51d0>"
            ]
          },
          "metadata": {},
          "execution_count": 10
        }
      ]
    },
    {
      "cell_type": "code",
      "source": [
        "#terms frequency \n",
        "from collections import Counter \n",
        "cnt = Counter()\n",
        "\n",
        "for w in full_text.split(sep = \" \"): \n",
        "    cnt[w] += 1 \n",
        "\n",
        "#cnt.most_common(25)\n",
        "\n",
        "#freq table \n",
        "word_freq = pd.DataFrame(cnt.most_common(30), columns = ['words', 'count'])\n",
        "word_freq.head(30)\n",
        "\n",
        "#plot \n",
        "import matplotlib.pyplot as plt\n",
        "fig, ax = plt.subplots(figsize=(12, 8))\n",
        "\n",
        "word_freq.sort_values(by='count').plot.barh(x = 'words', \n",
        "                                            y= 'count', \n",
        "                                            ax = ax, \n",
        "                                            color = 'red')\n",
        "ax.set_title('30 most common words in the dataset')\n",
        "plt.show()\n",
        "plt.savefig(\"/content/drive/MyDrive/jokes_project/images/frequencies.png\")"
      ],
      "metadata": {
        "colab": {
          "base_uri": "https://localhost:8080/",
          "height": 517
        },
        "id": "eKMnXHz3mXn0",
        "outputId": "2c447960-e146-4a9e-8811-a822d8f2ae63"
      },
      "execution_count": null,
      "outputs": [
        {
          "output_type": "display_data",
          "data": {
            "text/plain": [
              "<Figure size 864x576 with 1 Axes>"
            ],
            "image/png": "[encoded data removed]"
          },
          "metadata": {
            "needs_background": "light"
          }
        },
        {
          "output_type": "display_data",
          "data": {
            "text/plain": [
              "<Figure size 432x288 with 0 Axes>"
            ]
          },
          "metadata": {}
        }
      ]
    },
    {
      "cell_type": "markdown",
      "source": [
        "topic modeling"
      ],
      "metadata": {
        "id": "6ZghSMJ5gVTa"
      }
    },
    {
      "cell_type": "code",
      "source": [
        "import gensim \n",
        "from gensim.utils import simple_preprocess \n",
        "\n",
        "def sent_to_words(sentences): \n",
        "    for sentence in sentences: \n",
        "        yield(gensim.utils.simple_preprocess(str(sentence), deacc = True))\n",
        "\n",
        "data_words = list(sent_to_words(c))"
      ],
      "metadata": {
        "id": "YJWEDNkr33X5"
      },
      "execution_count": null,
      "outputs": []
    },
    {
      "cell_type": "code",
      "source": [
        "data_words[5]"
      ],
      "metadata": {
        "colab": {
          "base_uri": "https://localhost:8080/"
        },
        "id": "lrJWTkV8iKpn",
        "outputId": "9ee727ce-5746-4308-9e1c-aae93d86d1bf"
      },
      "execution_count": null,
      "outputs": [
        {
          "output_type": "execute_result",
          "data": {
            "text/plain": [
              "['barbie', 'pregnant', 'ken', 'comes', 'different', 'box', 'heyooooooo']"
            ]
          },
          "metadata": {},
          "execution_count": 22
        }
      ]
    },
    {
      "cell_type": "code",
      "source": [
        "import gensim.corpora as corpora \n",
        "\n",
        "#dict\n",
        "id2word = corpora.Dictionary(data_words)\n",
        "\n",
        "#corpus\n",
        "texts = data_words\n",
        "\n",
        "#tdf\n",
        "corpus = [id2word.doc2bow(text) for text in texts]\n",
        "\n",
        "print(corpus[5])"
      ],
      "metadata": {
        "colab": {
          "base_uri": "https://localhost:8080/"
        },
        "id": "9bzxxcuviit1",
        "outputId": "b03a5286-92c3-435a-9fd5-d114cd041168"
      },
      "execution_count": null,
      "outputs": [
        {
          "output_type": "stream",
          "name": "stdout",
          "text": [
            "[(46, 1), (47, 1), (48, 1), (49, 1), (50, 1), (51, 1), (52, 1)]\n"
          ]
        }
      ]
    },
    {
      "cell_type": "code",
      "source": [
        "from pprint import pprint "
      ],
      "metadata": {
        "id": "SrruACj6sIib"
      },
      "execution_count": null,
      "outputs": []
    },
    {
      "cell_type": "code",
      "source": [
        "#LDA model training \n",
        "\n",
        "num_topics = 4\n",
        "lda_model = gensim.models.LdaMulticore(corpus = corpus, \n",
        "                                       id2word = id2word, \n",
        "                                       num_topics = num_topics)\n",
        "\n",
        "pprint(lda_model.print_topics())\n",
        "doc_lda = lda_model[corpus]"
      ],
      "metadata": {
        "id": "M_f8u_Q-i-9v"
      },
      "execution_count": null,
      "outputs": []
    },
    {
      "cell_type": "code",
      "source": [
        "!pip install pyldavis"
      ],
      "metadata": {
        "colab": {
          "base_uri": "https://localhost:8080/"
        },
        "id": "N4PVQ9b8mvCG",
        "outputId": "e96419e7-2d7d-4aa8-aab2-087fdf83bd37"
      },
      "execution_count": null,
      "outputs": [
        {
          "output_type": "stream",
          "name": "stdout",
          "text": [
            "Looking in indexes: https://pypi.org/simple, https://us-python.pkg.dev/colab-wheels/public/simple/\n",
            "Collecting pyldavis\n",
            "  Downloading pyLDAvis-3.3.1.tar.gz (1.7 MB)\n",
            "\u001b[K     |████████████████████████████████| 1.7 MB 5.4 MB/s \n",
            "\u001b[?25h  Installing build dependencies ... \u001b[?25l\u001b[?25hdone\n",
            "  Getting requirements to build wheel ... \u001b[?25l\u001b[?25hdone\n",
            "  Installing backend dependencies ... \u001b[?25l\u001b[?25hdone\n",
            "    Preparing wheel metadata ... \u001b[?25l\u001b[?25hdone\n",
            "Requirement already satisfied: joblib in /usr/local/lib/python3.7/dist-packages (from pyldavis) (1.2.0)\n",
            "Requirement already satisfied: numexpr in /usr/local/lib/python3.7/dist-packages (from pyldavis) (2.8.4)\n",
            "Requirement already satisfied: scikit-learn in /usr/local/lib/python3.7/dist-packages (from pyldavis) (1.0.2)\n",
            "Requirement already satisfied: pandas>=1.2.0 in /usr/local/lib/python3.7/dist-packages (from pyldavis) (1.3.5)\n",
            "Requirement already satisfied: future in /usr/local/lib/python3.7/dist-packages (from pyldavis) (0.16.0)\n",
            "Requirement already satisfied: numpy>=1.20.0 in /usr/local/lib/python3.7/dist-packages (from pyldavis) (1.21.6)\n",
            "Collecting funcy\n",
            "  Downloading funcy-1.17-py2.py3-none-any.whl (33 kB)\n",
            "Requirement already satisfied: setuptools in /usr/local/lib/python3.7/dist-packages (from pyldavis) (57.4.0)\n",
            "Requirement already satisfied: gensim in /usr/local/lib/python3.7/dist-packages (from pyldavis) (3.6.0)\n",
            "Requirement already satisfied: jinja2 in /usr/local/lib/python3.7/dist-packages (from pyldavis) (2.11.3)\n",
            "Requirement already satisfied: scipy in /usr/local/lib/python3.7/dist-packages (from pyldavis) (1.7.3)\n",
            "Collecting sklearn\n",
            "  Downloading sklearn-0.0.post1.tar.gz (3.6 kB)\n",
            "Requirement already satisfied: pytz>=2017.3 in /usr/local/lib/python3.7/dist-packages (from pandas>=1.2.0->pyldavis) (2022.6)\n",
            "Requirement already satisfied: python-dateutil>=2.7.3 in /usr/local/lib/python3.7/dist-packages (from pandas>=1.2.0->pyldavis) (2.8.2)\n",
            "Requirement already satisfied: six>=1.5 in /usr/local/lib/python3.7/dist-packages (from python-dateutil>=2.7.3->pandas>=1.2.0->pyldavis) (1.15.0)\n",
            "Requirement already satisfied: smart-open>=1.2.1 in /usr/local/lib/python3.7/dist-packages (from gensim->pyldavis) (5.2.1)\n",
            "Requirement already satisfied: MarkupSafe>=0.23 in /usr/local/lib/python3.7/dist-packages (from jinja2->pyldavis) (2.0.1)\n",
            "Requirement already satisfied: threadpoolctl>=2.0.0 in /usr/local/lib/python3.7/dist-packages (from scikit-learn->pyldavis) (3.1.0)\n",
            "Building wheels for collected packages: pyldavis, sklearn\n",
            "  Building wheel for pyldavis (PEP 517) ... \u001b[?25l\u001b[?25hdone\n",
            "  Created wheel for pyldavis: filename=pyLDAvis-3.3.1-py2.py3-none-any.whl size=136898 sha256=e3ce531bfcc4cc68bac57ae0e96a17e1e2d71aebeb03fece33e8ba3549c5c4c3\n",
            "  Stored in directory: /root/.cache/pip/wheels/c9/21/f6/17bcf2667e8a68532ba2fbf6d5c72fdf4c7f7d9abfa4852d2f\n",
            "  Building wheel for sklearn (setup.py) ... \u001b[?25l\u001b[?25hdone\n",
            "  Created wheel for sklearn: filename=sklearn-0.0.post1-py3-none-any.whl size=2344 sha256=2dcb0178a65d63f4286732865f247066a7d749c9f6fb8e32506fd712802fb612\n",
            "  Stored in directory: /root/.cache/pip/wheels/42/56/cc/4a8bf86613aafd5b7f1b310477667c1fca5c51c3ae4124a003\n",
            "Successfully built pyldavis sklearn\n",
            "Installing collected packages: sklearn, funcy, pyldavis\n",
            "Successfully installed funcy-1.17 pyldavis-3.3.1 sklearn-0.0.post1\n"
          ]
        }
      ]
    },
    {
      "cell_type": "code",
      "source": [
        "import os\n",
        "import pyLDAvis.gensim_models \n",
        "import pickle\n",
        "import pyLDAvis\n",
        "pyLDAvis.enable_notebook()\n",
        "\n",
        "filepath = os.path.join('/content/drive/MyDrive/jokes_project/topic_mod_result'+str(num_topics))\n",
        "\n",
        "if 1 == 1: \n",
        "    ldavis_prep = pyLDAvis.gensim_models.prepare(lda_model, corpus, id2word)\n",
        "    with open(filepath, 'wb') as f: \n",
        "        pickle.dump(ldavis_prep, f)\n",
        "\n",
        "with open(filepath, 'rb') as f: \n",
        "    ldavis_prep = pickle.load(f)\n",
        "\n",
        "pyLDAvis.save_html(ldavis_prep, '/content/drive/MyDrive/jokes_project/topic_mod_result'+str(num_topics)+'.html')\n",
        "\n",
        "ldavis_prep"
      ],
      "metadata": {
        "colab": {
          "base_uri": "https://localhost:8080/",
          "height": 861
        },
        "id": "SGK5LIgRjyB5",
        "outputId": "0576408d-7227-4f5a-b5d4-260e68ef0c8b"
      },
      "execution_count": null,
      "outputs": [
        {
          "output_type": "execute_result",
          "data": {
            "text/plain": [
              "PreparedData(topic_coordinates=              x         y  topics  cluster       Freq\n",
              "topic                                                \n",
              "3      0.144175 -0.067442       1        1  31.525562\n",
              "0      0.086069 -0.134703       2        1  27.685574\n",
              "2      0.060041  0.228350       3        1  22.389646\n",
              "1     -0.290284 -0.026205       4        1  18.399219, topic_info=       Term          Freq         Total Category  logprob  loglift\n",
              "98     call  13354.000000  13354.000000  Default  30.0000  30.0000\n",
              "135    like  18577.000000  18577.000000  Default  29.0000  29.0000\n",
              "39      bar   4694.000000   4694.000000  Default  28.0000  28.0000\n",
              "244    take   6258.000000   6258.000000  Default  27.0000  27.0000\n",
              "344   black   4730.000000   4730.000000  Default  26.0000  26.0000\n",
              "...     ...           ...           ...      ...      ...      ...\n",
              "1373  water    869.378823   1754.420041   Topic4  -6.0571   0.9907\n",
              "530     dog   1006.196774   4084.229161   Topic4  -5.9109   0.2919\n",
              "38    would    971.173847   7572.544589   Topic4  -5.9463  -0.3609\n",
              "2      hear    936.898768   5547.631165   Topic4  -5.9823  -0.0857\n",
              "41      guy    838.782632   5729.117303   Topic4  -6.0929  -0.2285\n",
              "\n",
              "[305 rows x 6 columns], token_table=      Topic      Freq    Term\n",
              "term                         \n",
              "68        1  0.560805  always\n",
              "68        2  0.249951  always\n",
              "68        3  0.154861  always\n",
              "68        4  0.034414  always\n",
              "1223      3  0.998016    anal\n",
              "...     ...       ...     ...\n",
              "38        4  0.128226   would\n",
              "907       2  0.010963      yo\n",
              "907       3  0.987504      yo\n",
              "907       4  0.001687      yo\n",
              "1357      4  0.999364     zoo\n",
              "\n",
              "[588 rows x 3 columns], R=30, lambda_step=0.01, plot_opts={'xlab': 'PC1', 'ylab': 'PC2'}, topic_order=[4, 1, 3, 2])"
            ],
            "text/html": [
              "\n",
              "<link rel=\"stylesheet\" type=\"text/css\" href=\"https://cdn.jsdelivr.net/gh/bmabey/pyLDAvis@3.3.1/pyLDAvis/js/ldavis.v1.0.0.css\">\n",
              "\n",
              "\n",
              "<div id=\"ldavis_el75140241431910608554831434\"></div>\n",
              "<script type=\"text/javascript\">\n",
              "\n",
              "var ldavis_el75140241431910608554831434_data = {\"mdsDat\": {\"x\": [0.14417453531026447, 0.08606852364165062, 0.06004117859701603, -0.29028423754893123], \"y\": [-0.06744245763971118, -0.1347033488635587, 0.22835038790862003, -0.026204581405350175], \"topics\": [1, 2, 3, 4], \"cluster\": [1, 1, 1, 1], \"Freq\": [31.52556167328835, 27.685573879935955, 22.389645847046737, 18.39921859972896]}, \"tinfo\": {\"Term\": [\"call\", \"like\", \"bar\", \"take\", \"black\", \"says\", \"walks\", \"many\", \"man\", \"dad\", \"people\", \"two\", \"knock\", \"cross\", \"walk\", \"dog\", \"na\", \"white\", \"son\", \"baby\", \"mom\", \"chicken\", \"change\", \"favorite\", \"road\", \"light\", \"fish\", \"women\", \"said\", \"boy\", \"change\", \"lightbulb\", \"light\", \"screw\", \"bulb\", \"many\", \"facebook\", \"take\", \"none\", \"church\", \"ring\", \"dance\", \"laugh\", \"step\", \"mexicans\", \"knock\", \"bee\", \"harry\", \"half\", \"dr\", \"bottom\", \"pictures\", \"password\", \"trust\", \"burn\", \"bean\", \"problems\", \"boobs\", \"george\", \"sense\", \"friends\", \"sometimes\", \"answer\", \"news\", \"lol\", \"trees\", \"broken\", \"living\", \"feel\", \"enough\", \"internet\", \"doctor\", \"twitter\", \"married\", \"things\", \"life\", \"people\", \"time\", \"making\", \"never\", \"think\", \"like\", \"every\", \"good\", \"really\", \"look\", \"would\", \"always\", \"know\", \"love\", \"make\", \"go\", \"bad\", \"someone\", \"see\", \"want\", \"still\", \"say\", \"going\", \"could\", \"na\", \"son\", \"gon\", \"wan\", \"chuck\", \"dollars\", \"norris\", \"letter\", \"suck\", \"butter\", \"dad\", \"clock\", \"inches\", \"ass\", \"lazy\", \"gf\", \"dealer\", \"kim\", \"banana\", \"dropped\", \"pizza\", \"candy\", \"therapist\", \"jam\", \"peanut\", \"share\", \"video\", \"jelly\", \"jewish\", \"vampire\", \"father\", \"fuck\", \"drug\", \"sick\", \"cry\", \"cock\", \"mom\", \"daughter\", \"baby\", \"boy\", \"self\", \"mum\", \"crying\", \"bought\", \"jesus\", \"lesbian\", \"ate\", \"said\", \"wife\", \"husband\", \"asked\", \"girlfriend\", \"hear\", \"told\", \"girl\", \"joke\", \"wanted\", \"hey\", \"guy\", \"last\", \"want\", \"know\", \"say\", \"could\", \"would\", \"tell\", \"go\", \"today\", \"difference\", \"going\", \"old\", \"day\", \"time\", \"man\", \"fish\", \"cop\", \"coffee\", \"green\", \"blue\", \"com\", \"dyslexic\", \"flying\", \"paint\", \"muslim\", \"punchline\", \"nun\", \"dumb\", \"chinese\", \"midget\", \"racist\", \"frog\", \"anal\", \"crime\", \"plane\", \"prison\", \"ha\", \"mama\", \"bacon\", \"china\", \"pilot\", \"medium\", \"hardest\", \"history\", \"tank\", \"black\", \"red\", \"ice\", \"cream\", \"white\", \"sea\", \"taste\", \"http\", \"yo\", \"poor\", \"reading\", \"nose\", \"deer\", \"period\", \"call\", \"asian\", \"dog\", \"like\", \"man\", \"large\", \"women\", \"woman\", \"people\", \"tree\", \"fat\", \"say\", \"part\", \"eat\", \"guy\", \"sex\", \"know\", \"jokes\", \"trump\", \"joke\", \"gay\", \"make\", \"hear\", \"day\", \"good\", \"car\", \"really\", \"chicken\", \"bartender\", \"road\", \"cow\", \"hitler\", \"cheese\", \"cross\", \"duck\", \"egg\", \"michael\", \"santa\", \"building\", \"hello\", \"zoo\", \"jews\", \"animal\", \"pirate\", \"test\", \"windows\", \"favourite\", \"keller\", \"rabbit\", \"race\", \"terrorist\", \"serve\", \"helen\", \"barbie\", \"bomb\", \"magician\", \"ship\", \"bar\", \"apple\", \"blonde\", \"fly\", \"walks\", \"carry\", \"walk\", \"lawyer\", \"driver\", \"bird\", \"john\", \"says\", \"street\", \"two\", \"favorite\", \"side\", \"drink\", \"call\", \"difference\", \"man\", \"kind\", \"car\", \"say\", \"asks\", \"first\", \"water\", \"dog\", \"would\", \"hear\", \"guy\"], \"Freq\": [13354.0, 18577.0, 4694.0, 6258.0, 4730.0, 6254.0, 3713.0, 4495.0, 9937.0, 3400.0, 10174.0, 6680.0, 3362.0, 2209.0, 2271.0, 4084.0, 2784.0, 2392.0, 2429.0, 2736.0, 2340.0, 1586.0, 2290.0, 3035.0, 1407.0, 2001.0, 1538.0, 3720.0, 7673.0, 2046.0, 2290.0911233039983, 1343.9964060204275, 2000.4878259259713, 1257.709663631129, 1228.733038953615, 4493.106236593408, 1215.58968871826, 6252.27119014791, 794.0433017811646, 594.2539346287721, 560.4279358931619, 494.92683342988505, 598.3572967197198, 526.9876828212639, 488.5108490543587, 3356.7957995773977, 421.75159207559665, 407.26527957034966, 1165.3208366594708, 484.03225894260345, 412.0642504172023, 356.2064932750992, 349.89746295840547, 417.18175030145784, 365.5736023342117, 337.8051733683861, 432.8407059226594, 339.619392701521, 323.46333031726175, 460.1661717660137, 1911.820540980661, 1031.6884803276907, 838.9358606859189, 905.365589542973, 539.2868440777096, 448.94262466633234, 460.00922186943035, 592.28072853159, 1684.4350268159365, 1257.7041826059533, 828.0111405601713, 2617.0541252298567, 824.1579057937928, 1010.3101119696688, 1505.173950643988, 2695.54862744919, 5997.5137325277, 4178.698930122587, 1113.8403076973277, 3185.7679638983295, 3259.2228856723905, 7939.603309108707, 2175.3691185751413, 2856.69817440361, 2825.736603865531, 1982.7442660742884, 3686.7946969072946, 2476.588485930124, 4255.249594170173, 2076.24374132309, 2913.9425938811946, 2975.0474327122124, 1875.8013174278115, 2235.0327440565984, 2362.818253816225, 2248.995433487803, 1727.4136709836855, 2217.3949531772237, 1847.9317857678677, 1809.3421095434617, 2783.3855782283304, 2428.5615829089147, 1419.7372535242177, 1196.3557976348507, 672.5954320541117, 601.0608037760891, 578.9803445273577, 601.4557632514845, 444.8818457265333, 428.03755912101735, 3394.381382062549, 515.0177567649038, 382.5769884828859, 1337.1869504969877, 388.70152723862014, 352.0679951592527, 346.66644299261947, 344.82921796255573, 342.7525910304509, 370.57534605778176, 1313.3758116102708, 354.88965928358095, 324.4265559319325, 304.61138961635754, 309.1819462662062, 319.17604063978354, 419.7331003424457, 284.92654301569604, 1010.6298769996558, 316.118389529827, 1399.8581469641906, 1663.056877766046, 644.2602119037729, 649.5018809362622, 496.0192758401932, 452.57272533326596, 2286.680847356563, 780.355103362509, 2630.5838749419518, 1976.286410625747, 546.5634211424099, 400.84158760898805, 412.21911340589384, 919.4879044620345, 1477.1717244569763, 527.9476385170224, 674.2389500160384, 5029.764167495767, 3918.8396915120293, 918.7926925264239, 2569.078693553132, 2187.5600689740936, 3154.4900737150224, 2452.32497801188, 2700.1019462937206, 3422.499218390956, 1460.5826459380405, 1462.415642976355, 2546.4366919540894, 1946.0130790576077, 2391.697917986341, 3493.3109251259043, 3500.9319778227496, 2350.121798506215, 2672.4022258262894, 2060.127877287134, 2490.39563700979, 1940.710526943931, 2170.2328481417867, 1979.9171497557913, 1809.7217485976043, 1893.868801493413, 1936.592072704118, 1929.0149911214637, 1537.8076875106099, 1020.9769274970186, 1228.6392610124963, 700.6911239208144, 695.738769383324, 692.5505251200836, 503.98662113139363, 498.175356987571, 515.5520746442428, 485.0061286046915, 468.21146844398163, 451.1519497661305, 447.24966587792983, 842.4202041605469, 426.46771460683453, 1033.0607882961492, 432.08471410243413, 419.0665103079782, 394.33003989396104, 765.5770945316608, 465.3303232915796, 364.9252474277174, 511.67588208166313, 352.63454974886497, 310.4061863607419, 354.3779079506201, 303.33959279228, 304.1576294953711, 469.7061963018901, 290.7099445960095, 4675.527676790079, 1330.555661131915, 1051.7540658271032, 709.9664849721452, 2355.417776386435, 540.6421456446003, 626.2074381388672, 540.652508529978, 1170.5459776545697, 629.9093027717931, 535.7593329064466, 542.3921581864583, 575.3424514440783, 580.7625035140221, 9135.255682679652, 612.844155521681, 3000.559679007814, 9083.105014352797, 5335.512808308932, 631.9707279097737, 1977.863459400717, 2035.1156131282385, 3485.4236204085664, 858.4884628787138, 1132.56994800615, 2897.864010949382, 1036.804893522772, 1420.8691014579042, 1969.1952477048667, 1594.0765770072667, 2385.532847328885, 1240.7600494539374, 1120.857467769287, 1703.6989659833007, 1142.4386763014438, 1545.4303524563707, 1426.534706568169, 1415.805700976087, 1132.445172553785, 1066.860627740826, 1063.2108931556631, 1585.3141489004786, 1284.8621843262847, 1406.4815510271999, 1116.601462177789, 979.4941419187362, 875.710449460506, 2207.247015538974, 618.9167955672091, 568.1318492800665, 540.6189490509045, 906.5659229581628, 530.7162450476609, 498.71535532871036, 439.53247684883974, 595.9761364870915, 536.177300135114, 799.8624285128752, 608.9678806744096, 404.3307589566739, 705.2960145529322, 337.6674224842011, 355.28628595367036, 512.9058160430494, 358.72352886494116, 332.3792583722193, 310.1438665167084, 295.27139532105645, 317.8322302841647, 289.44778576147473, 287.9354490251666, 4677.382032417907, 762.097800218473, 1070.150742860182, 704.1173558862985, 3626.2263427133094, 376.22628153053097, 2215.428374713297, 480.9664399778295, 560.4199910145057, 666.8632520125279, 660.8170174939071, 4839.679172265584, 770.1926166417286, 3826.298312698172, 2022.7181582283138, 965.5929207385586, 1169.0294238907884, 3933.2520116605315, 2100.0813257418326, 2600.3520298135004, 1017.2735542395445, 1320.743967433131, 2237.5157101640098, 1060.193052653463, 1166.5389638635713, 869.3788227128409, 1006.1967737532901, 971.1738474787138, 936.8987681539198, 838.7826316432069], \"Total\": [13354.0, 18577.0, 4694.0, 6258.0, 4730.0, 6254.0, 3713.0, 4495.0, 9937.0, 3400.0, 10174.0, 6680.0, 3362.0, 2209.0, 2271.0, 4084.0, 2784.0, 2392.0, 2429.0, 2736.0, 2340.0, 1586.0, 2290.0, 3035.0, 1407.0, 2001.0, 1538.0, 3720.0, 7673.0, 2046.0, 2290.860272970641, 1344.733718681913, 2001.5941324434577, 1258.4524961683894, 1229.4683011666712, 4495.803198096719, 1216.3918143057522, 6258.075509791253, 794.8042308585998, 595.0531505297292, 561.2855993163294, 495.69944973561195, 599.2992844758334, 527.8635064978887, 489.35231705089507, 3362.787280714251, 422.51718087385945, 408.02298256706587, 1167.5657313793822, 485.04965883783666, 412.93602299029254, 356.96757377659634, 350.67793380481794, 418.127515729231, 366.40406524472365, 338.5809438075236, 433.851252783926, 340.4139880788245, 324.22911287824957, 461.26176455691865, 1917.434211072392, 1041.3632534544442, 845.0776473696267, 914.0407360950238, 541.7032225901181, 450.17485000336075, 461.9134694788703, 600.2002318891986, 1790.5865348051855, 1331.871069416843, 865.5520309455616, 2998.2645540465483, 873.248136424914, 1102.1923543646647, 1726.4065225483537, 3531.434226055169, 10174.166493300325, 6708.586745905883, 1324.3224128706524, 5416.756944957329, 5596.143462133183, 18577.9150947796, 3332.930811930625, 5017.559125771619, 4975.274181066664, 3011.598447453741, 7572.544589339114, 4416.8688080946, 10597.893304081646, 3556.3000765158095, 6405.019197939085, 6968.336087192734, 3015.680356055262, 4367.625054297602, 5038.40243563043, 5543.381585295371, 3152.3961070074583, 10853.706652113364, 4764.495462859992, 5541.586659518653, 2784.13936068267, 2429.421440160508, 1420.494043101283, 1197.1046666041914, 673.3668721811581, 601.8246782434709, 579.7375283715212, 602.3279293017889, 445.6512022034751, 428.7917958018767, 3400.548288399381, 515.9613009783437, 383.33100602385116, 1339.8698452083693, 389.5301942515865, 352.82014698484386, 347.41189734849877, 345.58680367460715, 343.50709102149943, 371.41573753268574, 1316.401860072475, 355.72118429062067, 325.1936502083063, 305.35626115080123, 309.93980167516423, 319.9682964050439, 420.7918852454277, 285.6652251832674, 1013.2669168244959, 316.94728891754687, 1404.0669829168917, 1674.6721382302403, 645.9774126213749, 651.7106239988283, 497.9103469352207, 454.1745460194884, 2340.5112274345233, 788.8876890981018, 2736.946153129884, 2046.798305654373, 551.8709545131137, 402.6198684046943, 414.59910132952496, 973.1955773868278, 1627.0068159046725, 543.4738752958046, 717.1665017099189, 7673.450588435753, 6013.2182288461345, 1084.7638714688508, 3928.9827428639255, 3349.554234132609, 5547.631165498849, 4108.903639070136, 4794.4233604068295, 6849.718960003536, 2136.949657750135, 2244.789195970342, 5729.117302507793, 3737.601963311146, 5543.381585295371, 10597.893304081646, 10853.706652113364, 5541.586659518653, 7572.544589339114, 4508.88539548254, 6968.336087192734, 4114.072254267485, 5942.210554812654, 4764.495462859992, 3762.4216257085723, 5482.356253685156, 6708.586745905883, 9937.988571504731, 1538.57377881756, 1021.7392206485541, 1229.7597366215143, 701.4919095353487, 696.5828060648054, 693.6170242393373, 504.7681511667236, 498.95557008315126, 516.3705424149894, 485.7910199461426, 468.9769001576649, 451.93217019391824, 448.0241659341767, 843.8980282571173, 427.21722042815094, 1034.9463630243417, 432.8738225919716, 419.8331094985959, 395.0883420084826, 767.1597134342416, 466.302055972048, 365.693803432557, 512.8065290283213, 353.4809477425373, 311.16277953728144, 355.2436238814096, 304.08631618862864, 304.9257636162775, 470.8953799001554, 291.4596733206109, 4730.45502219809, 1334.8206214156437, 1055.0741112986038, 711.9354075027359, 2392.6259098428527, 542.318584238045, 629.1019075616437, 542.5708191025176, 1185.8177329410462, 637.498282732865, 542.914353015969, 551.0902315348523, 588.1871690941756, 594.9344282702327, 13354.809632599745, 635.5839649264036, 4084.22916055091, 18577.9150947796, 9937.988571504731, 677.6963890402485, 3720.4950011991837, 3991.5544266316597, 10174.166493300325, 1131.5214242081258, 1776.8776439846652, 10853.706652113364, 1689.9105674198975, 3012.8391477730706, 5729.117302507793, 4165.729356736917, 10597.893304081646, 2934.4131150905782, 2285.822150543816, 6849.718960003536, 2479.572002955838, 6405.019197939085, 5547.631165498849, 5482.356253685156, 5017.559125771619, 3279.7890086162624, 4975.274181066664, 1586.127576377761, 1285.6488486132725, 1407.3915645703798, 1117.4623335435733, 980.2919704530033, 876.4624757457831, 2209.8734176958205, 619.6618083458706, 568.877840086075, 541.3682278314684, 907.8573534673702, 531.5152105108224, 499.5396056460792, 440.28013244380963, 597.0910621820251, 537.2064852993725, 801.3978652370037, 610.1594439068461, 405.122184608079, 706.7242614874036, 338.39825661004835, 356.069514981908, 514.045299053674, 359.534887290998, 333.1369406136887, 310.8776702378083, 296.00619688558584, 318.6522441581488, 290.20064681761164, 288.68591592242063, 4694.51660340749, 764.6973096799895, 1080.888833978771, 709.178930247694, 3713.5464475233807, 377.37071813114954, 2271.229016425943, 484.10042954574595, 565.8529535147702, 675.7599503213993, 675.6645083751025, 6254.122869584966, 836.2687058602274, 6680.160542365113, 3035.277288190341, 1228.975572307637, 1707.3979507281695, 13354.809632599745, 5942.210554812654, 9937.988571504731, 1710.268269042359, 3279.7890086162624, 10853.706652113364, 2063.186033255205, 4626.063995981951, 1754.4200412270507, 4084.22916055091, 7572.544589339114, 5547.631165498849, 5729.117302507793], \"Category\": [\"Default\", \"Default\", \"Default\", \"Default\", \"Default\", \"Default\", \"Default\", \"Default\", \"Default\", \"Default\", \"Default\", \"Default\", \"Default\", \"Default\", \"Default\", \"Default\", \"Default\", \"Default\", \"Default\", \"Default\", \"Default\", \"Default\", \"Default\", \"Default\", \"Default\", \"Default\", \"Default\", \"Default\", \"Default\", \"Default\", \"Topic1\", \"Topic1\", \"Topic1\", \"Topic1\", \"Topic1\", \"Topic1\", \"Topic1\", \"Topic1\", \"Topic1\", \"Topic1\", \"Topic1\", \"Topic1\", \"Topic1\", \"Topic1\", \"Topic1\", \"Topic1\", \"Topic1\", \"Topic1\", \"Topic1\", \"Topic1\", \"Topic1\", \"Topic1\", \"Topic1\", \"Topic1\", \"Topic1\", \"Topic1\", \"Topic1\", \"Topic1\", \"Topic1\", \"Topic1\", \"Topic1\", \"Topic1\", \"Topic1\", \"Topic1\", \"Topic1\", \"Topic1\", \"Topic1\", \"Topic1\", \"Topic1\", \"Topic1\", \"Topic1\", \"Topic1\", \"Topic1\", \"Topic1\", \"Topic1\", \"Topic1\", \"Topic1\", \"Topic1\", \"Topic1\", \"Topic1\", \"Topic1\", \"Topic1\", \"Topic1\", \"Topic1\", \"Topic1\", \"Topic1\", \"Topic1\", \"Topic1\", \"Topic1\", \"Topic1\", \"Topic1\", \"Topic1\", \"Topic1\", \"Topic1\", \"Topic1\", \"Topic1\", \"Topic1\", \"Topic1\", \"Topic1\", \"Topic1\", \"Topic2\", \"Topic2\", \"Topic2\", \"Topic2\", \"Topic2\", \"Topic2\", \"Topic2\", \"Topic2\", \"Topic2\", \"Topic2\", \"Topic2\", \"Topic2\", \"Topic2\", \"Topic2\", \"Topic2\", \"Topic2\", \"Topic2\", \"Topic2\", \"Topic2\", \"Topic2\", \"Topic2\", \"Topic2\", \"Topic2\", \"Topic2\", \"Topic2\", \"Topic2\", \"Topic2\", \"Topic2\", \"Topic2\", \"Topic2\", \"Topic2\", \"Topic2\", \"Topic2\", \"Topic2\", \"Topic2\", \"Topic2\", \"Topic2\", \"Topic2\", \"Topic2\", \"Topic2\", \"Topic2\", \"Topic2\", \"Topic2\", \"Topic2\", \"Topic2\", \"Topic2\", \"Topic2\", \"Topic2\", \"Topic2\", \"Topic2\", \"Topic2\", \"Topic2\", \"Topic2\", \"Topic2\", \"Topic2\", \"Topic2\", \"Topic2\", \"Topic2\", \"Topic2\", \"Topic2\", \"Topic2\", \"Topic2\", \"Topic2\", \"Topic2\", \"Topic2\", \"Topic2\", \"Topic2\", \"Topic2\", \"Topic2\", \"Topic2\", \"Topic2\", \"Topic2\", \"Topic2\", \"Topic2\", \"Topic3\", \"Topic3\", \"Topic3\", \"Topic3\", \"Topic3\", \"Topic3\", \"Topic3\", \"Topic3\", \"Topic3\", \"Topic3\", \"Topic3\", \"Topic3\", \"Topic3\", \"Topic3\", \"Topic3\", \"Topic3\", \"Topic3\", \"Topic3\", \"Topic3\", \"Topic3\", \"Topic3\", \"Topic3\", \"Topic3\", \"Topic3\", \"Topic3\", \"Topic3\", \"Topic3\", \"Topic3\", \"Topic3\", \"Topic3\", \"Topic3\", \"Topic3\", \"Topic3\", \"Topic3\", \"Topic3\", \"Topic3\", \"Topic3\", \"Topic3\", \"Topic3\", \"Topic3\", \"Topic3\", \"Topic3\", \"Topic3\", \"Topic3\", \"Topic3\", \"Topic3\", \"Topic3\", \"Topic3\", \"Topic3\", \"Topic3\", \"Topic3\", \"Topic3\", \"Topic3\", \"Topic3\", \"Topic3\", \"Topic3\", \"Topic3\", \"Topic3\", \"Topic3\", \"Topic3\", \"Topic3\", \"Topic3\", \"Topic3\", \"Topic3\", \"Topic3\", \"Topic3\", \"Topic3\", \"Topic3\", \"Topic3\", \"Topic3\", \"Topic3\", \"Topic4\", \"Topic4\", \"Topic4\", \"Topic4\", \"Topic4\", \"Topic4\", \"Topic4\", \"Topic4\", \"Topic4\", \"Topic4\", \"Topic4\", \"Topic4\", \"Topic4\", \"Topic4\", \"Topic4\", \"Topic4\", \"Topic4\", \"Topic4\", \"Topic4\", \"Topic4\", \"Topic4\", \"Topic4\", \"Topic4\", \"Topic4\", \"Topic4\", \"Topic4\", \"Topic4\", \"Topic4\", \"Topic4\", \"Topic4\", \"Topic4\", \"Topic4\", \"Topic4\", \"Topic4\", \"Topic4\", \"Topic4\", \"Topic4\", \"Topic4\", \"Topic4\", \"Topic4\", \"Topic4\", \"Topic4\", \"Topic4\", \"Topic4\", \"Topic4\", \"Topic4\", \"Topic4\", \"Topic4\", \"Topic4\", \"Topic4\", \"Topic4\", \"Topic4\", \"Topic4\", \"Topic4\", \"Topic4\", \"Topic4\", \"Topic4\", \"Topic4\", \"Topic4\", \"Topic4\"], \"logprob\": [30.0, 29.0, 28.0, 27.0, 26.0, 25.0, 24.0, 23.0, 22.0, 21.0, 20.0, 19.0, 18.0, 17.0, 16.0, 15.0, 14.0, 13.0, 12.0, 11.0, 10.0, 9.0, 8.0, 7.0, 6.0, 5.0, 4.0, 3.0, 2.0, 1.0, -5.627, -6.1599, -5.7622, -6.2263, -6.2496, -4.953, -6.2603, -4.6226, -6.6862, -6.976, -7.0346, -7.1589, -6.9691, -7.0962, -7.172, -5.2446, -7.3189, -7.3539, -6.3026, -7.1812, -7.3421, -7.4878, -7.5057, -7.3298, -7.4619, -7.5409, -7.293, -7.5355, -7.5842, -7.2317, -5.8075, -6.4244, -6.6312, -6.555, -7.0731, -7.2564, -7.2321, -6.9793, -5.9341, -6.2263, -6.6443, -5.4935, -6.649, -6.4453, -6.0467, -5.464, -4.6642, -5.0256, -6.3478, -5.2969, -5.2741, -4.3837, -5.6784, -5.4059, -5.4168, -5.7711, -5.1508, -5.5487, -5.0074, -5.725, -5.3861, -5.3653, -5.8265, -5.6513, -5.5957, -5.6451, -5.9089, -5.6592, -5.8415, -5.8626, -5.302, -5.4384, -5.9752, -6.1464, -6.7223, -6.8347, -6.8722, -6.8341, -7.1356, -7.1742, -5.1036, -6.9892, -7.2865, -6.0351, -7.2706, -7.3696, -7.3851, -7.3904, -7.3964, -7.3184, -6.0531, -7.3616, -7.4514, -7.5144, -7.4995, -7.4677, -7.1938, -7.5812, -6.3151, -7.4773, -5.9893, -5.817, -6.7653, -6.7572, -7.0268, -7.1185, -5.4986, -6.5737, -5.3585, -5.6445, -6.9298, -7.2399, -7.2119, -6.4096, -5.9356, -6.9644, -6.7199, -4.7103, -4.9599, -6.4104, -5.3821, -5.5429, -5.1769, -5.4286, -5.3324, -5.0953, -5.9469, -5.9456, -5.391, -5.6599, -5.4537, -5.0748, -5.0727, -5.4712, -5.3427, -5.6029, -5.4132, -5.6626, -5.5509, -5.6426, -5.7325, -5.6871, -5.6648, -5.6687, -5.683, -6.0926, -5.9075, -6.4691, -6.4762, -6.4807, -6.7986, -6.8102, -6.7759, -6.837, -6.8722, -6.9093, -6.918, -6.2848, -6.9656, -6.0808, -6.9525, -6.9831, -7.0439, -6.3805, -6.8784, -7.1214, -6.7834, -7.1557, -7.2832, -7.1508, -7.3063, -7.3036, -6.869, -7.3488, -4.571, -5.8278, -6.0629, -6.4559, -5.2567, -6.7284, -6.5814, -6.7284, -5.9559, -6.5756, -6.7374, -6.7251, -6.6662, -6.6568, -3.9012, -6.603, -5.0146, -3.907, -4.439, -6.5723, -5.4314, -5.4028, -4.8648, -6.266, -5.9889, -5.0494, -6.0772, -5.7621, -5.4357, -5.6471, -5.244, -5.8976, -5.9993, -5.5806, -5.9802, -5.6781, -5.7581, -5.7657, -5.989, -6.0487, -6.0521, -5.4563, -5.6664, -5.576, -5.8068, -5.9378, -6.0498, -5.1253, -6.3969, -6.4825, -6.5321, -6.0152, -6.5506, -6.6128, -6.7391, -6.4346, -6.5404, -6.1404, -6.4131, -6.8226, -6.2662, -7.0028, -6.9519, -6.5847, -6.9423, -7.0186, -7.0878, -7.1369, -7.0633, -7.1569, -7.1621, -4.3743, -6.1888, -5.8493, -6.2679, -4.6289, -6.8946, -5.1216, -6.649, -6.4962, -6.3223, -6.3314, -4.3402, -6.1782, -4.5752, -5.2126, -5.9521, -5.7609, -4.5476, -5.1751, -4.9614, -5.9, -5.6389, -5.1117, -5.8586, -5.763, -6.0571, -5.9109, -5.9463, -5.9823, -6.0929], \"loglift\": [30.0, 29.0, 28.0, 27.0, 26.0, 25.0, 24.0, 23.0, 22.0, 21.0, 20.0, 19.0, 18.0, 17.0, 16.0, 15.0, 14.0, 13.0, 12.0, 11.0, 10.0, 9.0, 8.0, 7.0, 6.0, 5.0, 4.0, 3.0, 2.0, 1.0, 1.154, 1.1538, 1.1538, 1.1538, 1.1538, 1.1538, 1.1537, 1.1534, 1.1534, 1.153, 1.1528, 1.1528, 1.1528, 1.1527, 1.1527, 1.1526, 1.1526, 1.1525, 1.1524, 1.1523, 1.1523, 1.1522, 1.1521, 1.1521, 1.1521, 1.1521, 1.152, 1.152, 1.152, 1.152, 1.1514, 1.145, 1.1471, 1.1448, 1.1499, 1.1516, 1.1502, 1.1411, 1.0933, 1.0971, 1.11, 1.0184, 1.0965, 1.0673, 1.0172, 0.8843, 0.6259, 0.681, 0.9813, 0.6236, 0.6138, 0.3043, 0.7277, 0.5911, 0.5887, 0.7364, 0.4346, 0.5758, 0.2419, 0.6162, 0.3668, 0.3033, 0.6796, 0.4844, 0.3971, 0.2523, 0.5528, -0.4338, 0.2072, 0.0351, 1.284, 1.2839, 1.2837, 1.2836, 1.2831, 1.283, 1.283, 1.2828, 1.2825, 1.2825, 1.2824, 1.2824, 1.2823, 1.2823, 1.2821, 1.2821, 1.2821, 1.2821, 1.2821, 1.282, 1.282, 1.2819, 1.2819, 1.2818, 1.2818, 1.2818, 1.2817, 1.2817, 1.2817, 1.2816, 1.2813, 1.2773, 1.2816, 1.2809, 1.2805, 1.2807, 1.261, 1.2734, 1.2446, 1.2492, 1.2746, 1.2798, 1.2785, 1.2275, 1.1876, 1.2553, 1.2225, 0.8619, 0.8561, 1.1182, 0.8594, 0.8582, 0.7197, 0.7681, 0.7101, 0.5904, 0.9037, 0.8557, 0.4734, 0.6316, 0.4437, 0.1745, 0.1528, 0.4264, 0.2427, 0.501, 0.2553, 0.5329, 0.277, 0.4061, 0.5524, 0.2213, 0.0418, -0.3551, 1.4961, 1.4958, 1.4957, 1.4954, 1.4954, 1.495, 1.495, 1.495, 1.495, 1.495, 1.4949, 1.4948, 1.4948, 1.4948, 1.4948, 1.4947, 1.4947, 1.4947, 1.4947, 1.4945, 1.4945, 1.4945, 1.4944, 1.4942, 1.4941, 1.4941, 1.4941, 1.494, 1.494, 1.494, 1.4849, 1.4934, 1.4934, 1.4938, 1.4809, 1.4935, 1.492, 1.493, 1.4836, 1.4846, 1.4833, 1.4807, 1.4745, 1.4725, 1.1168, 1.4601, 1.1882, 0.781, 0.8746, 1.4267, 0.8647, 0.8229, 0.4253, 1.2204, 1.0462, 0.176, 1.008, 0.745, 0.4286, 0.536, 0.0053, 0.6358, 0.7839, 0.1052, 0.7217, 0.0748, 0.1384, 0.1427, 0.008, 0.3735, -0.0466, 1.6923, 1.6922, 1.6922, 1.6921, 1.692, 1.692, 1.6917, 1.6917, 1.6915, 1.6915, 1.6914, 1.6914, 1.6912, 1.6912, 1.691, 1.6909, 1.6909, 1.6909, 1.6909, 1.6908, 1.6907, 1.6907, 1.6906, 1.6906, 1.6906, 1.6905, 1.6904, 1.6903, 1.6903, 1.6903, 1.6892, 1.6895, 1.6829, 1.6857, 1.6691, 1.6898, 1.668, 1.6864, 1.6832, 1.6796, 1.6706, 1.4365, 1.6106, 1.1356, 1.287, 1.4517, 1.3141, 0.4705, 0.6528, 0.3521, 1.1733, 0.7833, 0.1137, 1.0271, 0.3152, 0.9907, 0.2919, -0.3609, -0.0857, -0.2285]}, \"token.table\": {\"Topic\": [1, 2, 3, 4, 3, 4, 1, 2, 3, 1, 3, 4, 1, 3, 4, 1, 2, 3, 4, 1, 2, 3, 4, 1, 2, 3, 1, 2, 3, 4, 1, 2, 3, 4, 3, 1, 2, 3, 4, 2, 2, 3, 4, 4, 4, 1, 1, 1, 2, 3, 4, 1, 2, 3, 1, 2, 3, 4, 3, 4, 1, 1, 1, 2, 3, 4, 1, 2, 3, 4, 1, 2, 4, 1, 1, 2, 1, 2, 3, 4, 2, 1, 2, 3, 4, 2, 4, 1, 4, 4, 3, 1, 3, 2, 1, 2, 2, 4, 1, 3, 2, 3, 3, 1, 2, 3, 4, 4, 2, 3, 4, 3, 2, 4, 2, 4, 1, 2, 4, 2, 3, 1, 1, 2, 3, 4, 1, 2, 3, 4, 2, 1, 3, 1, 2, 3, 4, 1, 2, 3, 4, 1, 2, 3, 4, 2, 1, 1, 2, 3, 4, 3, 4, 2, 1, 2, 4, 3, 3, 1, 2, 3, 4, 4, 1, 2, 3, 4, 1, 2, 3, 4, 1, 1, 2, 3, 4, 1, 2, 3, 1, 2, 3, 4, 1, 4, 1, 2, 3, 4, 1, 2, 3, 4, 3, 2, 4, 3, 1, 2, 3, 3, 1, 2, 3, 4, 1, 2, 3, 4, 1, 2, 1, 2, 3, 4, 1, 2, 3, 4, 1, 2, 3, 4, 1, 2, 3, 4, 2, 1, 2, 3, 4, 3, 1, 2, 3, 4, 3, 1, 4, 3, 1, 1, 2, 3, 4, 4, 4, 1, 2, 3, 4, 3, 4, 4, 3, 4, 1, 2, 3, 4, 1, 2, 3, 4, 2, 1, 2, 3, 2, 2, 2, 3, 4, 2, 3, 2, 4, 1, 2, 3, 4, 1, 2, 3, 4, 1, 2, 3, 4, 2, 1, 2, 3, 4, 1, 4, 1, 2, 3, 4, 3, 4, 1, 2, 3, 4, 1, 2, 4, 2, 1, 2, 3, 2, 1, 2, 3, 4, 1, 4, 1, 1, 2, 3, 4, 1, 2, 3, 4, 1, 2, 3, 1, 2, 3, 4, 1, 2, 3, 4, 4, 1, 2, 3, 4, 1, 2, 3, 4, 3, 1, 2, 3, 4, 1, 4, 1, 2, 3, 4, 3, 1, 4, 3, 1, 2, 3, 4, 1, 2, 3, 2, 1, 2, 3, 4, 1, 3, 4, 1, 2, 1, 2, 3, 3, 1, 2, 3, 4, 3, 1, 3, 4, 1, 2, 1, 2, 3, 4, 3, 4, 1, 3, 1, 4, 2, 3, 4, 1, 3, 3, 4, 3, 1, 3, 4, 3, 4, 1, 3, 2, 3, 1, 2, 3, 4, 3, 4, 1, 4, 1, 2, 3, 4, 1, 4, 1, 2, 3, 4, 1, 2, 3, 4, 1, 3, 4, 1, 2, 3, 4, 1, 2, 4, 1, 3, 4, 1, 2, 3, 4, 2, 4, 2, 4, 1, 2, 4, 1, 2, 3, 4, 1, 2, 3, 2, 1, 1, 2, 3, 4, 2, 3, 4, 2, 1, 2, 4, 3, 1, 3, 1, 2, 3, 4, 4, 3, 4, 2, 1, 2, 3, 4, 1, 2, 3, 4, 1, 2, 3, 4, 1, 2, 3, 4, 1, 2, 3, 4, 1, 2, 3, 4, 1, 2, 1, 2, 3, 4, 1, 1, 2, 3, 4, 1, 2, 3, 4, 2, 2, 4, 1, 2, 3, 4, 2, 3, 4, 2, 1, 2, 3, 4, 1, 2, 3, 4, 1, 2, 3, 4, 1, 2, 3, 4, 1, 2, 3, 4, 4, 1, 2, 3, 4, 1, 2, 3, 4, 1, 2, 3, 4, 2, 3, 4, 4], \"Freq\": [0.5608045218505271, 0.24995082443398545, 0.15486083687757793, 0.03441351930612843, 0.9980156174447726, 0.9977541497871155, 0.9928081787649409, 0.00473329286657898, 0.00236664643328949, 0.0026154139352693156, 0.0013077069676346578, 0.9964727093376092, 0.007866781221547913, 0.9644673777617743, 0.026747056153262908, 0.28658817655667096, 0.6538588148970583, 0.04403175359174429, 0.015525647220210416, 0.001938749068443903, 0.47160071089897937, 0.012601868944885368, 0.5137685031376342, 0.0007463411491617571, 0.9978581164292694, 0.0007463411491617571, 0.05019754814839548, 0.9398096514449598, 0.00418312901236629, 0.00557750534982172, 0.019364648420061498, 0.9612903772298453, 0.002557595074347745, 0.01680705334571375, 0.9986393955724946, 0.6220818450579921, 0.10975964323784403, 0.19829687811550067, 0.06996762756249271, 0.9985237829589151, 0.0034082316352628266, 0.00021301447720392666, 0.996268709882765, 0.996600757361932, 0.9994953142812111, 0.9982841804355833, 0.9987759530327506, 0.008878892567022255, 0.002959630855674085, 0.0014798154278370425, 0.9870368903673072, 0.009724223099921851, 0.0019025653891151448, 0.9884884177224909, 0.0046258226034169595, 0.002775493562050176, 0.002775493562050176, 0.9899260371312294, 0.9991633355579105, 0.9979531160689863, 0.9987838687794209, 0.9977332493699284, 0.040074164850523356, 0.9443117307084863, 0.005137713442374789, 0.010275426884749578, 0.009282790564908931, 0.9654102187505288, 0.0014657037734066732, 0.02345126037450677, 0.9958575153025326, 0.0021649076419620276, 0.9990306758854046, 0.9996191026916051, 0.9988972140785235, 0.9981534259525746, 0.002471019872828841, 0.0190193650817735, 0.6840232284330746, 0.2945006412071464, 0.9979726136016924, 0.07622441545575963, 0.19574429889039074, 0.3253258051651821, 0.4027698112682339, 0.0026499141347062997, 0.9963677146495686, 0.9996244760185546, 0.9994723382248744, 0.9992891010820605, 0.9962631149554244, 0.0011849772917058195, 0.9977508796163, 0.9994551674632141, 0.9982301572073156, 0.9981368738769343, 0.9974138884933503, 0.0022017966633407294, 0.0008131669709298444, 0.9993822072727787, 0.001441717785252836, 0.9991104251802153, 0.9992765075142316, 0.32644080317551716, 0.4240662727819045, 0.09924955320427553, 0.15013750593810407, 0.9995862647628514, 0.0014046218090314002, 0.9972814844122943, 0.0014046218090314002, 0.9972453198620089, 0.0009050292129787912, 0.9986997365220961, 0.9961632712656417, 0.002008393692067826, 0.0024119685662444216, 0.9937310492927017, 0.0024119685662444216, 0.9980743433575934, 0.00147035112456923, 0.9985889640668655, 0.002535215123316864, 0.988733898093577, 0.001267607561658432, 0.00633803780829216, 0.2995062568026791, 0.34547189426569685, 0.25828310574457586, 0.09685616465421595, 0.9988143832964776, 0.020401669112368313, 0.9775799783009816, 0.187135745147802, 0.3651839631031748, 0.09424102273630318, 0.3534038352611369, 0.8728382545389525, 0.12407177328562871, 0.0023346839059123683, 0.000667052544546391, 0.017139097060498414, 0.001958753949771247, 0.7347775754079391, 0.24631330918373434, 0.9986297035111988, 0.9978359765465012, 0.24833109341566967, 0.01815628277331547, 0.048611982909199485, 0.6846675665163157, 0.008836217905981977, 0.9896564054699815, 0.998880667966717, 0.0015480417433513692, 0.9969388827182818, 0.998931984613289, 0.9977140386344089, 0.9984782099168735, 0.003982954087963759, 0.42849947729676774, 0.4716481465830418, 0.09559089811113022, 0.9984568917538743, 0.9445358705409921, 0.04730187586969992, 0.00225247027950952, 0.006006587412025387, 0.652578803080558, 0.14071699248035943, 0.20102427497194203, 0.005400652163425309, 0.9996778880775552, 0.18909574395146128, 0.16827270071871106, 0.6376353508839453, 0.005065064570128427, 0.0007122167333659117, 0.9971034267122765, 0.002136650200097735, 0.006589183821134238, 0.18087309589013484, 0.1462798808291801, 0.6664959435077282, 0.0014149790158545783, 0.9975602061774776, 0.9404739549117731, 0.008935619524102358, 0.05026285982307576, 0.0005584762202563973, 0.34846037612106767, 0.28836609289423343, 0.11089340753728767, 0.2522662896608474, 0.9996270709760822, 0.005640325493881953, 0.9926972869232238, 0.9980848593733667, 0.9971658943806199, 0.0015645908384633157, 0.0010430605589755438, 0.9979813457262459, 0.0011942636139594222, 0.9930301950072596, 0.003582790841878267, 0.0017913954209391335, 0.0008065908139049192, 0.5263005060729598, 0.4605633547397089, 0.012098862208573789, 0.9962091224093405, 0.9976754530832416, 0.29367452437085667, 0.5631542725861598, 0.09990773946991502, 0.04338373655478565, 0.32213241660779224, 0.6532212488765982, 0.023585227907336036, 0.0011941887548018247, 0.4269311874132795, 0.3573306408938037, 0.1056206231718231, 0.11006931789781021, 0.3878689809667062, 0.4155739081786137, 0.14608052529914908, 0.05037259493074106, 0.9996522033276504, 0.5694003654736485, 0.19511479096909412, 0.22560770518591883, 0.00996500464602115, 0.9992987666305738, 0.0654551094347208, 0.44439655632213104, 0.3436829612719073, 0.146444898175282, 0.998102774982664, 0.9978024951311726, 0.0017129656568775496, 0.9969639704913801, 0.997492831014984, 0.005407713509609712, 0.5685309469769677, 0.2572269059404353, 0.16890091861681, 0.9971767987159165, 0.9989197940664157, 0.02940142447160637, 0.6512860996589168, 0.05033880250441697, 0.2686221053996764, 0.9980985587491956, 0.0021236139547855227, 0.9986820554570021, 0.997104858854894, 0.0018430773731144066, 0.09310782065707858, 0.8471889820183685, 0.04240554208144173, 0.017515332598856365, 0.0009478007177800831, 0.0018956014355601663, 0.9970863551046474, 0.0009478007177800831, 0.9991365007822233, 0.9566149352055262, 0.0023106640946993387, 0.04043662165723843, 0.9988332934472718, 0.9976713119952187, 0.907801974498021, 0.001229251150301992, 0.09096458512234741, 0.9977627643942031, 0.001973813579414843, 0.0016747864159037552, 0.9981727038786381, 0.004440073383778384, 0.0014800244612594615, 0.016280269073854076, 0.978296168892504, 0.16511626339767613, 0.4995825405365585, 0.24876933053018577, 0.08642690356447769, 0.40314705312495974, 0.17379965941988967, 0.4229125045883982, 0.9988231127014721, 0.9983020078649772, 0.17073344883110142, 0.002923517959436668, 0.23154262238738413, 0.5946435529494183, 0.9982790226585424, 0.0014868618151005993, 0.40149488940044714, 0.3295938069743271, 0.22513908486708975, 0.04378228641170563, 0.9325710011455667, 0.06640141622080775, 0.4478807578849304, 0.5206546922604985, 0.014715317612706794, 0.016855727447282327, 0.9978319939477823, 0.0061970612230504325, 0.9935954827624193, 0.9986388879234248, 0.0018400148479183385, 0.9715278397008826, 0.025760207870856738, 0.9977953383245431, 0.7634291982868386, 0.061731292739811136, 0.14498358661827201, 0.029732962099450318, 0.9992035685868484, 0.0004996017842934243, 0.9994543762294946, 0.42738918546522703, 0.08267881471972151, 0.4889138503250198, 0.0010227197133298885, 0.9863375062962115, 0.004998331957582153, 0.004998331957582153, 0.0033322213050547686, 0.9950097719980456, 0.0018460292615919214, 0.003692058523183843, 0.6584543173996504, 0.23077445819100206, 0.0547881807216048, 0.055784329461997614, 0.5837527642025939, 0.36470488206684215, 0.04948963704222376, 0.001968337836906627, 0.9958627010974023, 0.4549557011378865, 0.25323889747620176, 0.2412170755861478, 0.05042920091542119, 0.841184887587344, 0.015857165744465194, 0.07928582872232597, 0.06342866297786078, 0.9984272255077378, 0.007345550809880527, 0.1941036645515005, 0.5369295770071574, 0.26162235761218317, 0.9993764855859559, 0.0004448593303298268, 0.9163554764287881, 0.05988065489534655, 0.021774783598307836, 0.0018145652998589866, 0.9964276058119144, 0.9992800339579092, 0.9993198200179878, 0.9971508160955426, 0.017944797490263252, 0.9771369490531443, 0.0034180566648120483, 0.0017090283324060242, 0.0024837323700946812, 0.9959766804079672, 0.9983716867672229, 0.999590767366476, 0.5881748124153829, 0.32602533544430834, 0.08012174155313126, 0.005722981539509376, 0.9901090446650684, 0.0021880862865526376, 0.0076583020029342315, 0.9989881396860066, 0.9987278236522088, 0.010887509261939342, 0.0036291697539797803, 0.9835050033285205, 0.997937367031167, 0.3861874464232483, 0.48107314385827904, 0.05049939079175304, 0.08212795660342996, 0.9992824098499957, 0.23137319071089457, 0.6136419405810682, 0.15503779019502398, 0.998066790808699, 0.9969677928743428, 0.58953232227423, 0.0676222470364572, 0.3425342019215891, 0.00029486444928687733, 0.9765782116346049, 0.023532005099629032, 0.9972894631118459, 0.9964992365863694, 0.0012478196453696096, 0.9982557162956875, 0.9974157890719725, 0.001519292900338115, 0.0007596464501690575, 0.0013035095332671125, 0.9984883024826082, 0.9882379561859822, 0.010980421735399802, 0.9972076984105641, 0.9980379155794441, 0.9979169546360674, 0.9969963309496958, 0.0019453538469098716, 0.9979665234647641, 0.0009662336481648955, 0.998119358554337, 0.01289337804593666, 0.9872643760888642, 0.5680088970280881, 0.2120486151325665, 0.21365656671651012, 0.006431806335774529, 0.997137726706985, 0.002996657330449241, 0.9977095451622218, 0.9990112456224615, 0.20681699604499737, 0.655506925082758, 0.08431669593012811, 0.053430981964996176, 0.0011014946303851704, 0.9990556297593496, 0.20426201583109121, 0.3225626149863105, 0.2670055579064061, 0.20619683871447098, 0.004317152151152375, 0.1738053477149123, 0.04812825175914314, 0.7738894967250924, 0.9996404344464593, 0.9975686169045864, 0.0018439345968661487, 0.4689978679133299, 0.32550000142947993, 0.18537622032630136, 0.020046036673400897, 0.003624035625800407, 0.9911737436564113, 0.00543605343870061, 0.9972645368554867, 0.002167966384468449, 0.9965871673925015, 0.32383284761847647, 0.23789351518896232, 0.38264607791241767, 0.05569252827834436, 0.996973773914719, 0.9976240062829911, 0.9973751785902583, 0.0030688467033546407, 0.016273716459999418, 0.19772565498899294, 0.7860205050179719, 0.5117197497987681, 0.22323344789879146, 0.2333075727270446, 0.031825076161981554, 0.9910086577153705, 0.002880839121265612, 0.006721957949619761, 0.9998265265328027, 0.998364148141974, 0.5478372455038417, 0.25948515739556605, 0.19191750638669616, 0.0006344380376419708, 0.07174727402752806, 0.0071747274027528065, 0.9207566833532768, 0.9985387626012108, 0.9990291728213014, 0.0004793806011618529, 0.00031958706744123524, 0.9984228579021798, 0.0031791351702490688, 0.9950693082879586, 0.3577380790418997, 0.4568756620125935, 0.17365710842517512, 0.01175456800323663, 0.9985122798651663, 0.00163891587680264, 0.9980997689728077, 0.996329417233265, 0.8717529622040961, 0.08804415299337051, 0.03938817370756049, 0.0005792378486405954, 0.5823653417844489, 0.24963620204752227, 0.1327700058133923, 0.035202814461962696, 0.6229329899550543, 0.2887344344443504, 0.06469320833704081, 0.02370096803131219, 0.39474270251705995, 0.4717953113211905, 0.08653226730053777, 0.0471552243154616, 0.32758130105592015, 0.5967528604673968, 0.07082181174388764, 0.004867478470370284, 0.23950054696459175, 0.0008837658559579032, 0.758271104411881, 0.0008837658559579032, 0.997390236252976, 0.002221359100786138, 0.49566410918296944, 0.0004374793549717294, 0.4904143569233087, 0.013561860004123611, 0.9973034165731366, 0.9436035024059297, 0.03664479620993902, 0.019467547986530102, 0.0011451498815605943, 0.23996429274923645, 0.07260304552924496, 0.11466790283587967, 0.5727407261750335, 0.9970112099056531, 0.9981181071375324, 0.0023764716836607914, 0.0030820317763531205, 0.020693641926942383, 0.0008805805075294631, 0.9752429120888804, 0.021812033630014268, 0.0016157061948158717, 0.9764251104003918, 0.9990772180286249, 0.40570903615327525, 0.4315055644635991, 0.15459877455907375, 0.008298183931992291, 0.15723346536565305, 0.683684800295295, 0.053815025348363396, 0.10529026698592839, 0.25592502904034714, 0.06554872681434282, 0.18239645722251913, 0.4953203791449035, 0.0071051642172998775, 0.004179508363117575, 0.9842742195141889, 0.004179508363117575, 0.2590958685859904, 0.6517308786832454, 0.06252891308622105, 0.02660804812179619, 0.9972300094867315, 0.198418940429767, 0.23850357486002294, 0.5098264441598179, 0.053362669585278244, 0.44563962576635535, 0.022308859432212, 0.5316496862278955, 0.0005375628778846264, 0.4868904971772215, 0.3528536502461448, 0.031957553652532576, 0.12822638263061625, 0.01096289896741349, 0.9875042069877843, 0.0016865998411405368, 0.9993637404389457], \"Term\": [\"always\", \"always\", \"always\", \"always\", \"anal\", \"animal\", \"answer\", \"answer\", \"answer\", \"apple\", \"apple\", \"apple\", \"asian\", \"asian\", \"asian\", \"asked\", \"asked\", \"asked\", \"asked\", \"asks\", \"asks\", \"asks\", \"asks\", \"ass\", \"ass\", \"ass\", \"ate\", \"ate\", \"ate\", \"ate\", \"baby\", \"baby\", \"baby\", \"baby\", \"bacon\", \"bad\", \"bad\", \"bad\", \"bad\", \"banana\", \"bar\", \"bar\", \"bar\", \"barbie\", \"bartender\", \"bean\", \"bee\", \"bird\", \"bird\", \"bird\", \"bird\", \"black\", \"black\", \"black\", \"blonde\", \"blonde\", \"blonde\", \"blonde\", \"blue\", \"bomb\", \"boobs\", \"bottom\", \"bought\", \"bought\", \"bought\", \"bought\", \"boy\", \"boy\", \"boy\", \"boy\", \"broken\", \"broken\", \"building\", \"bulb\", \"burn\", \"butter\", \"call\", \"call\", \"call\", \"call\", \"candy\", \"car\", \"car\", \"car\", \"car\", \"carry\", \"carry\", \"change\", \"cheese\", \"chicken\", \"china\", \"chinese\", \"chinese\", \"chuck\", \"church\", \"clock\", \"cock\", \"cock\", \"coffee\", \"coffee\", \"com\", \"com\", \"cop\", \"could\", \"could\", \"could\", \"could\", \"cow\", \"cream\", \"cream\", \"cream\", \"crime\", \"cross\", \"cross\", \"cry\", \"cry\", \"crying\", \"crying\", \"crying\", \"dad\", \"dad\", \"dance\", \"daughter\", \"daughter\", \"daughter\", \"daughter\", \"day\", \"day\", \"day\", \"day\", \"dealer\", \"deer\", \"deer\", \"difference\", \"difference\", \"difference\", \"difference\", \"doctor\", \"doctor\", \"doctor\", \"doctor\", \"dog\", \"dog\", \"dog\", \"dog\", \"dollars\", \"dr\", \"drink\", \"drink\", \"drink\", \"drink\", \"driver\", \"driver\", \"dropped\", \"drug\", \"drug\", \"duck\", \"dumb\", \"dyslexic\", \"eat\", \"eat\", \"eat\", \"eat\", \"egg\", \"enough\", \"enough\", \"enough\", \"enough\", \"every\", \"every\", \"every\", \"every\", \"facebook\", \"fat\", \"fat\", \"fat\", \"fat\", \"father\", \"father\", \"father\", \"favorite\", \"favorite\", \"favorite\", \"favorite\", \"favourite\", \"favourite\", \"feel\", \"feel\", \"feel\", \"feel\", \"first\", \"first\", \"first\", \"first\", \"fish\", \"fly\", \"fly\", \"flying\", \"friends\", \"friends\", \"friends\", \"frog\", \"fuck\", \"fuck\", \"fuck\", \"fuck\", \"gay\", \"gay\", \"gay\", \"gay\", \"george\", \"gf\", \"girl\", \"girl\", \"girl\", \"girl\", \"girlfriend\", \"girlfriend\", \"girlfriend\", \"girlfriend\", \"go\", \"go\", \"go\", \"go\", \"going\", \"going\", \"going\", \"going\", \"gon\", \"good\", \"good\", \"good\", \"good\", \"green\", \"guy\", \"guy\", \"guy\", \"guy\", \"ha\", \"half\", \"half\", \"hardest\", \"harry\", \"hear\", \"hear\", \"hear\", \"hear\", \"helen\", \"hello\", \"hey\", \"hey\", \"hey\", \"hey\", \"history\", \"history\", \"hitler\", \"http\", \"http\", \"husband\", \"husband\", \"husband\", \"husband\", \"ice\", \"ice\", \"ice\", \"ice\", \"inches\", \"internet\", \"internet\", \"internet\", \"jam\", \"jelly\", \"jesus\", \"jesus\", \"jesus\", \"jewish\", \"jewish\", \"jews\", \"jews\", \"john\", \"john\", \"john\", \"john\", \"joke\", \"joke\", \"joke\", \"joke\", \"jokes\", \"jokes\", \"jokes\", \"keller\", \"kim\", \"kind\", \"kind\", \"kind\", \"kind\", \"knock\", \"knock\", \"know\", \"know\", \"know\", \"know\", \"large\", \"large\", \"last\", \"last\", \"last\", \"last\", \"laugh\", \"lawyer\", \"lawyer\", \"lazy\", \"lesbian\", \"lesbian\", \"lesbian\", \"letter\", \"life\", \"life\", \"life\", \"life\", \"light\", \"light\", \"lightbulb\", \"like\", \"like\", \"like\", \"like\", \"living\", \"living\", \"living\", \"living\", \"lol\", \"lol\", \"lol\", \"look\", \"look\", \"look\", \"look\", \"love\", \"love\", \"love\", \"love\", \"magician\", \"make\", \"make\", \"make\", \"make\", \"making\", \"making\", \"making\", \"making\", \"mama\", \"man\", \"man\", \"man\", \"man\", \"many\", \"many\", \"married\", \"married\", \"married\", \"married\", \"medium\", \"mexicans\", \"michael\", \"midget\", \"mom\", \"mom\", \"mom\", \"mom\", \"mum\", \"mum\", \"muslim\", \"na\", \"never\", \"never\", \"never\", \"never\", \"news\", \"news\", \"news\", \"none\", \"norris\", \"nose\", \"nose\", \"nose\", \"nun\", \"old\", \"old\", \"old\", \"old\", \"paint\", \"part\", \"part\", \"part\", \"password\", \"peanut\", \"people\", \"people\", \"people\", \"people\", \"period\", \"period\", \"pictures\", \"pilot\", \"pirate\", \"pirate\", \"pizza\", \"pizza\", \"pizza\", \"plane\", \"plane\", \"poor\", \"poor\", \"prison\", \"problems\", \"punchline\", \"rabbit\", \"race\", \"race\", \"racist\", \"racist\", \"reading\", \"reading\", \"really\", \"really\", \"really\", \"really\", \"red\", \"red\", \"ring\", \"road\", \"said\", \"said\", \"said\", \"said\", \"santa\", \"santa\", \"say\", \"say\", \"say\", \"say\", \"says\", \"says\", \"says\", \"says\", \"screw\", \"sea\", \"sea\", \"see\", \"see\", \"see\", \"see\", \"self\", \"self\", \"self\", \"sense\", \"sense\", \"serve\", \"sex\", \"sex\", \"sex\", \"sex\", \"share\", \"ship\", \"sick\", \"sick\", \"side\", \"side\", \"side\", \"someone\", \"someone\", \"someone\", \"someone\", \"sometimes\", \"sometimes\", \"sometimes\", \"son\", \"step\", \"still\", \"still\", \"still\", \"still\", \"street\", \"street\", \"street\", \"suck\", \"take\", \"take\", \"take\", \"tank\", \"taste\", \"taste\", \"tell\", \"tell\", \"tell\", \"tell\", \"terrorist\", \"test\", \"test\", \"therapist\", \"things\", \"things\", \"things\", \"things\", \"think\", \"think\", \"think\", \"think\", \"time\", \"time\", \"time\", \"time\", \"today\", \"today\", \"today\", \"today\", \"told\", \"told\", \"told\", \"told\", \"tree\", \"tree\", \"tree\", \"tree\", \"trees\", \"trees\", \"trump\", \"trump\", \"trump\", \"trump\", \"trust\", \"twitter\", \"twitter\", \"twitter\", \"twitter\", \"two\", \"two\", \"two\", \"two\", \"vampire\", \"video\", \"video\", \"walk\", \"walk\", \"walk\", \"walk\", \"walks\", \"walks\", \"walks\", \"wan\", \"want\", \"want\", \"want\", \"want\", \"wanted\", \"wanted\", \"wanted\", \"wanted\", \"water\", \"water\", \"water\", \"water\", \"white\", \"white\", \"white\", \"white\", \"wife\", \"wife\", \"wife\", \"wife\", \"windows\", \"woman\", \"woman\", \"woman\", \"woman\", \"women\", \"women\", \"women\", \"women\", \"would\", \"would\", \"would\", \"would\", \"yo\", \"yo\", \"yo\", \"zoo\"]}, \"R\": 30, \"lambda.step\": 0.01, \"plot.opts\": {\"xlab\": \"PC1\", \"ylab\": \"PC2\"}, \"topic.order\": [4, 1, 3, 2]};\n",
              "\n",
              "function LDAvis_load_lib(url, callback){\n",
              "  var s = document.createElement('script');\n",
              "  s.src = url;\n",
              "  s.async = true;\n",
              "  s.onreadystatechange = s.onload = callback;\n",
              "  s.onerror = function(){console.warn(\"failed to load library \" + url);};\n",
              "  document.getElementsByTagName(\"head\")[0].appendChild(s);\n",
              "}\n",
              "\n",
              "if(typeof(LDAvis) !== \"undefined\"){\n",
              "   // already loaded: just create the visualization\n",
              "   !function(LDAvis){\n",
              "       new LDAvis(\"#\" + \"ldavis_el75140241431910608554831434\", ldavis_el75140241431910608554831434_data);\n",
              "   }(LDAvis);\n",
              "}else if(typeof define === \"function\" && define.amd){\n",
              "   // require.js is available: use it to load d3/LDAvis\n",
              "   require.config({paths: {d3: \"https://d3js.org/d3.v5\"}});\n",
              "   require([\"d3\"], function(d3){\n",
              "      window.d3 = d3;\n",
              "      LDAvis_load_lib(\"https://cdn.jsdelivr.net/gh/bmabey/pyLDAvis@3.3.1/pyLDAvis/js/ldavis.v3.0.0.js\", function(){\n",
              "        new LDAvis(\"#\" + \"ldavis_el75140241431910608554831434\", ldavis_el75140241431910608554831434_data);\n",
              "      });\n",
              "    });\n",
              "}else{\n",
              "    // require.js not available: dynamically load d3 & LDAvis\n",
              "    LDAvis_load_lib(\"https://d3js.org/d3.v5.js\", function(){\n",
              "         LDAvis_load_lib(\"https://cdn.jsdelivr.net/gh/bmabey/pyLDAvis@3.3.1/pyLDAvis/js/ldavis.v3.0.0.js\", function(){\n",
              "                 new LDAvis(\"#\" + \"ldavis_el75140241431910608554831434\", ldavis_el75140241431910608554831434_data);\n",
              "            })\n",
              "         });\n",
              "}\n",
              "</script>"
            ]
          },
          "metadata": {},
          "execution_count": 34
        }
      ]
    },
    {
      "cell_type": "markdown",
      "source": [
        "setiment analysis"
      ],
      "metadata": {
        "id": "FkK5vElYuFAt"
      }
    },
    {
      "cell_type": "code",
      "source": [
        "nltk.download('vader_lexicon')\n",
        "from nltk.sentiment import SentimentIntensityAnalyzer"
      ],
      "metadata": {
        "id": "Un1quK08pkvj",
        "colab": {
          "base_uri": "https://localhost:8080/"
        },
        "outputId": "1be9a599-e630-4deb-9b2d-58c71bc12839"
      },
      "execution_count": null,
      "outputs": [
        {
          "output_type": "stream",
          "name": "stderr",
          "text": [
            "[nltk_data] Downloading package vader_lexicon to /root/nltk_data...\n"
          ]
        }
      ]
    },
    {
      "cell_type": "code",
      "source": [
        "#use the clean data for performing sent analysis\n",
        "analyzer = SentimentIntensityAnalyzer()\n",
        "clean_data['polarity'] = clean_data[0].apply(lambda x: analyzer.polarity_scores(x))\n",
        "clean_data.head()"
      ],
      "metadata": {
        "colab": {
          "base_uri": "https://localhost:8080/",
          "height": 206
        },
        "id": "8kJoHf6Surdh",
        "outputId": "7d351f06-611d-4e39-8444-c3d94dc749d8"
      },
      "execution_count": null,
      "outputs": [
        {
          "output_type": "execute_result",
          "data": {
            "text/plain": [
              "                                                   0  \\\n",
              "0  narrating documentary narrators hear saying cu...   \n",
              "1  telling daughter garlic good good immune syste...   \n",
              "2  going really rough period work week fault swap...   \n",
              "3  could dinner anyone dead alive would choose al...   \n",
              "4                  two guys walk bar third guy ducks   \n",
              "\n",
              "                                            polarity  \n",
              "0  {'neg': 0.0, 'neu': 1.0, 'pos': 0.0, 'compound...  \n",
              "1  {'neg': 0.0, 'neu': 0.556, 'pos': 0.444, 'comp...  \n",
              "2  {'neg': 0.213, 'neu': 0.787, 'pos': 0.0, 'comp...  \n",
              "3  {'neg': 0.261, 'neu': 0.424, 'pos': 0.315, 'co...  \n",
              "4  {'neg': 0.0, 'neu': 1.0, 'pos': 0.0, 'compound...  "
            ],
            "text/html": [
              "\n",
              "  <div id=\"df-93e487e9-fdc9-4dcd-a462-fc7bcf69b26c\">\n",
              "    <div class=\"colab-df-container\">\n",
              "      <div>\n",
              "<style scoped>\n",
              "    .dataframe tbody tr th:only-of-type {\n",
              "        vertical-align: middle;\n",
              "    }\n",
              "\n",
              "    .dataframe tbody tr th {\n",
              "        vertical-align: top;\n",
              "    }\n",
              "\n",
              "    .dataframe thead th {\n",
              "        text-align: right;\n",
              "    }\n",
              "</style>\n",
              "<table border=\"1\" class=\"dataframe\">\n",
              "  <thead>\n",
              "    <tr style=\"text-align: right;\">\n",
              "      <th></th>\n",
              "      <th>0</th>\n",
              "      <th>polarity</th>\n",
              "    </tr>\n",
              "  </thead>\n",
              "  <tbody>\n",
              "    <tr>\n",
              "      <th>0</th>\n",
              "      <td>narrating documentary narrators hear saying cu...</td>\n",
              "      <td>{'neg': 0.0, 'neu': 1.0, 'pos': 0.0, 'compound...</td>\n",
              "    </tr>\n",
              "    <tr>\n",
              "      <th>1</th>\n",
              "      <td>telling daughter garlic good good immune syste...</td>\n",
              "      <td>{'neg': 0.0, 'neu': 0.556, 'pos': 0.444, 'comp...</td>\n",
              "    </tr>\n",
              "    <tr>\n",
              "      <th>2</th>\n",
              "      <td>going really rough period work week fault swap...</td>\n",
              "      <td>{'neg': 0.213, 'neu': 0.787, 'pos': 0.0, 'comp...</td>\n",
              "    </tr>\n",
              "    <tr>\n",
              "      <th>3</th>\n",
              "      <td>could dinner anyone dead alive would choose al...</td>\n",
              "      <td>{'neg': 0.261, 'neu': 0.424, 'pos': 0.315, 'co...</td>\n",
              "    </tr>\n",
              "    <tr>\n",
              "      <th>4</th>\n",
              "      <td>two guys walk bar third guy ducks</td>\n",
              "      <td>{'neg': 0.0, 'neu': 1.0, 'pos': 0.0, 'compound...</td>\n",
              "    </tr>\n",
              "  </tbody>\n",
              "</table>\n",
              "</div>\n",
              "      <button class=\"colab-df-convert\" onclick=\"convertToInteractive('df-93e487e9-fdc9-4dcd-a462-fc7bcf69b26c')\"\n",
              "              title=\"Convert this dataframe to an interactive table.\"\n",
              "              style=\"display:none;\">\n",
              "        \n",
              "  <svg xmlns=\"http://www.w3.org/2000/svg\" height=\"24px\"viewBox=\"0 0 24 24\"\n",
              "       width=\"24px\">\n",
              "    <path d=\"M0 0h24v24H0V0z\" fill=\"none\"/>\n",
              "    <path d=\"M18.56 5.44l.94 2.06.94-2.06 2.06-.94-2.06-.94-.94-2.06-.94 2.06-2.06.94zm-11 1L8.5 8.5l.94-2.06 2.06-.94-2.06-.94L8.5 2.5l-.94 2.06-2.06.94zm10 10l.94 2.06.94-2.06 2.06-.94-2.06-.94-.94-2.06-.94 2.06-2.06.94z\"/><path d=\"M17.41 7.96l-1.37-1.37c-.4-.4-.92-.59-1.43-.59-.52 0-1.04.2-1.43.59L10.3 9.45l-7.72 7.72c-.78.78-.78 2.05 0 2.83L4 21.41c.39.39.9.59 1.41.59.51 0 1.02-.2 1.41-.59l7.78-7.78 2.81-2.81c.8-.78.8-2.07 0-2.86zM5.41 20L4 18.59l7.72-7.72 1.47 1.35L5.41 20z\"/>\n",
              "  </svg>\n",
              "      </button>\n",
              "      \n",
              "  <style>\n",
              "    .colab-df-container {\n",
              "      display:flex;\n",
              "      flex-wrap:wrap;\n",
              "      gap: 12px;\n",
              "    }\n",
              "\n",
              "    .colab-df-convert {\n",
              "      background-color: #E8F0FE;\n",
              "      border: none;\n",
              "      border-radius: 50%;\n",
              "      cursor: pointer;\n",
              "      display: none;\n",
              "      fill: #1967D2;\n",
              "      height: 32px;\n",
              "      padding: 0 0 0 0;\n",
              "      width: 32px;\n",
              "    }\n",
              "\n",
              "    .colab-df-convert:hover {\n",
              "      background-color: #E2EBFA;\n",
              "      box-shadow: 0px 1px 2px rgba(60, 64, 67, 0.3), 0px 1px 3px 1px rgba(60, 64, 67, 0.15);\n",
              "      fill: #174EA6;\n",
              "    }\n",
              "\n",
              "    [theme=dark] .colab-df-convert {\n",
              "      background-color: #3B4455;\n",
              "      fill: #D2E3FC;\n",
              "    }\n",
              "\n",
              "    [theme=dark] .colab-df-convert:hover {\n",
              "      background-color: #434B5C;\n",
              "      box-shadow: 0px 1px 3px 1px rgba(0, 0, 0, 0.15);\n",
              "      filter: drop-shadow(0px 1px 2px rgba(0, 0, 0, 0.3));\n",
              "      fill: #FFFFFF;\n",
              "    }\n",
              "  </style>\n",
              "\n",
              "      <script>\n",
              "        const buttonEl =\n",
              "          document.querySelector('#df-93e487e9-fdc9-4dcd-a462-fc7bcf69b26c button.colab-df-convert');\n",
              "        buttonEl.style.display =\n",
              "          google.colab.kernel.accessAllowed ? 'block' : 'none';\n",
              "\n",
              "        async function convertToInteractive(key) {\n",
              "          const element = document.querySelector('#df-93e487e9-fdc9-4dcd-a462-fc7bcf69b26c');\n",
              "          const dataTable =\n",
              "            await google.colab.kernel.invokeFunction('convertToInteractive',\n",
              "                                                     [key], {});\n",
              "          if (!dataTable) return;\n",
              "\n",
              "          const docLinkHtml = 'Like what you see? Visit the ' +\n",
              "            '<a target=\"_blank\" href=https://colab.research.google.com/notebooks/data_table.ipynb>data table notebook</a>'\n",
              "            + ' to learn more about interactive tables.';\n",
              "          element.innerHTML = '';\n",
              "          dataTable['output_type'] = 'display_data';\n",
              "          await google.colab.output.renderOutput(dataTable, element);\n",
              "          const docLink = document.createElement('div');\n",
              "          docLink.innerHTML = docLinkHtml;\n",
              "          element.appendChild(docLink);\n",
              "        }\n",
              "      </script>\n",
              "    </div>\n",
              "  </div>\n",
              "  "
            ]
          },
          "metadata": {},
          "execution_count": 22
        }
      ]
    },
    {
      "cell_type": "code",
      "source": [
        "clean_data_1 = pd.concat([clean_data['polarity'].apply(pd.Series), clean_data.rename(columns={'0':'Joke'})], axis = 1)"
      ],
      "metadata": {
        "id": "vGyH_S6dvGZU"
      },
      "execution_count": null,
      "outputs": []
    },
    {
      "cell_type": "code",
      "source": [
        "clean_data_1.head(3)"
      ],
      "metadata": {
        "colab": {
          "base_uri": "https://localhost:8080/",
          "height": 143
        },
        "id": "zzlh3AV4xMqe",
        "outputId": "ec737aab-5170-4941-bc57-b55eb25361c3"
      },
      "execution_count": null,
      "outputs": [
        {
          "output_type": "execute_result",
          "data": {
            "text/plain": [
              "     neg    neu    pos  compound  \\\n",
              "0  0.000  1.000  0.000    0.0000   \n",
              "1  0.000  0.556  0.444    0.7906   \n",
              "2  0.213  0.787  0.000   -0.4019   \n",
              "\n",
              "                                                   0  \\\n",
              "0  narrating documentary narrators hear saying cu...   \n",
              "1  telling daughter garlic good good immune syste...   \n",
              "2  going really rough period work week fault swap...   \n",
              "\n",
              "                                            polarity  \n",
              "0  {'neg': 0.0, 'neu': 1.0, 'pos': 0.0, 'compound...  \n",
              "1  {'neg': 0.0, 'neu': 0.556, 'pos': 0.444, 'comp...  \n",
              "2  {'neg': 0.213, 'neu': 0.787, 'pos': 0.0, 'comp...  "
            ],
            "text/html": [
              "\n",
              "  <div id=\"df-1998bcd2-f7c1-42ad-9ea3-12c6cb3f2190\">\n",
              "    <div class=\"colab-df-container\">\n",
              "      <div>\n",
              "<style scoped>\n",
              "    .dataframe tbody tr th:only-of-type {\n",
              "        vertical-align: middle;\n",
              "    }\n",
              "\n",
              "    .dataframe tbody tr th {\n",
              "        vertical-align: top;\n",
              "    }\n",
              "\n",
              "    .dataframe thead th {\n",
              "        text-align: right;\n",
              "    }\n",
              "</style>\n",
              "<table border=\"1\" class=\"dataframe\">\n",
              "  <thead>\n",
              "    <tr style=\"text-align: right;\">\n",
              "      <th></th>\n",
              "      <th>neg</th>\n",
              "      <th>neu</th>\n",
              "      <th>pos</th>\n",
              "      <th>compound</th>\n",
              "      <th>0</th>\n",
              "      <th>polarity</th>\n",
              "    </tr>\n",
              "  </thead>\n",
              "  <tbody>\n",
              "    <tr>\n",
              "      <th>0</th>\n",
              "      <td>0.000</td>\n",
              "      <td>1.000</td>\n",
              "      <td>0.000</td>\n",
              "      <td>0.0000</td>\n",
              "      <td>narrating documentary narrators hear saying cu...</td>\n",
              "      <td>{'neg': 0.0, 'neu': 1.0, 'pos': 0.0, 'compound...</td>\n",
              "    </tr>\n",
              "    <tr>\n",
              "      <th>1</th>\n",
              "      <td>0.000</td>\n",
              "      <td>0.556</td>\n",
              "      <td>0.444</td>\n",
              "      <td>0.7906</td>\n",
              "      <td>telling daughter garlic good good immune syste...</td>\n",
              "      <td>{'neg': 0.0, 'neu': 0.556, 'pos': 0.444, 'comp...</td>\n",
              "    </tr>\n",
              "    <tr>\n",
              "      <th>2</th>\n",
              "      <td>0.213</td>\n",
              "      <td>0.787</td>\n",
              "      <td>0.000</td>\n",
              "      <td>-0.4019</td>\n",
              "      <td>going really rough period work week fault swap...</td>\n",
              "      <td>{'neg': 0.213, 'neu': 0.787, 'pos': 0.0, 'comp...</td>\n",
              "    </tr>\n",
              "  </tbody>\n",
              "</table>\n",
              "</div>\n",
              "      <button class=\"colab-df-convert\" onclick=\"convertToInteractive('df-1998bcd2-f7c1-42ad-9ea3-12c6cb3f2190')\"\n",
              "              title=\"Convert this dataframe to an interactive table.\"\n",
              "              style=\"display:none;\">\n",
              "        \n",
              "  <svg xmlns=\"http://www.w3.org/2000/svg\" height=\"24px\"viewBox=\"0 0 24 24\"\n",
              "       width=\"24px\">\n",
              "    <path d=\"M0 0h24v24H0V0z\" fill=\"none\"/>\n",
              "    <path d=\"M18.56 5.44l.94 2.06.94-2.06 2.06-.94-2.06-.94-.94-2.06-.94 2.06-2.06.94zm-11 1L8.5 8.5l.94-2.06 2.06-.94-2.06-.94L8.5 2.5l-.94 2.06-2.06.94zm10 10l.94 2.06.94-2.06 2.06-.94-2.06-.94-.94-2.06-.94 2.06-2.06.94z\"/><path d=\"M17.41 7.96l-1.37-1.37c-.4-.4-.92-.59-1.43-.59-.52 0-1.04.2-1.43.59L10.3 9.45l-7.72 7.72c-.78.78-.78 2.05 0 2.83L4 21.41c.39.39.9.59 1.41.59.51 0 1.02-.2 1.41-.59l7.78-7.78 2.81-2.81c.8-.78.8-2.07 0-2.86zM5.41 20L4 18.59l7.72-7.72 1.47 1.35L5.41 20z\"/>\n",
              "  </svg>\n",
              "      </button>\n",
              "      \n",
              "  <style>\n",
              "    .colab-df-container {\n",
              "      display:flex;\n",
              "      flex-wrap:wrap;\n",
              "      gap: 12px;\n",
              "    }\n",
              "\n",
              "    .colab-df-convert {\n",
              "      background-color: #E8F0FE;\n",
              "      border: none;\n",
              "      border-radius: 50%;\n",
              "      cursor: pointer;\n",
              "      display: none;\n",
              "      fill: #1967D2;\n",
              "      height: 32px;\n",
              "      padding: 0 0 0 0;\n",
              "      width: 32px;\n",
              "    }\n",
              "\n",
              "    .colab-df-convert:hover {\n",
              "      background-color: #E2EBFA;\n",
              "      box-shadow: 0px 1px 2px rgba(60, 64, 67, 0.3), 0px 1px 3px 1px rgba(60, 64, 67, 0.15);\n",
              "      fill: #174EA6;\n",
              "    }\n",
              "\n",
              "    [theme=dark] .colab-df-convert {\n",
              "      background-color: #3B4455;\n",
              "      fill: #D2E3FC;\n",
              "    }\n",
              "\n",
              "    [theme=dark] .colab-df-convert:hover {\n",
              "      background-color: #434B5C;\n",
              "      box-shadow: 0px 1px 3px 1px rgba(0, 0, 0, 0.15);\n",
              "      filter: drop-shadow(0px 1px 2px rgba(0, 0, 0, 0.3));\n",
              "      fill: #FFFFFF;\n",
              "    }\n",
              "  </style>\n",
              "\n",
              "      <script>\n",
              "        const buttonEl =\n",
              "          document.querySelector('#df-1998bcd2-f7c1-42ad-9ea3-12c6cb3f2190 button.colab-df-convert');\n",
              "        buttonEl.style.display =\n",
              "          google.colab.kernel.accessAllowed ? 'block' : 'none';\n",
              "\n",
              "        async function convertToInteractive(key) {\n",
              "          const element = document.querySelector('#df-1998bcd2-f7c1-42ad-9ea3-12c6cb3f2190');\n",
              "          const dataTable =\n",
              "            await google.colab.kernel.invokeFunction('convertToInteractive',\n",
              "                                                     [key], {});\n",
              "          if (!dataTable) return;\n",
              "\n",
              "          const docLinkHtml = 'Like what you see? Visit the ' +\n",
              "            '<a target=\"_blank\" href=https://colab.research.google.com/notebooks/data_table.ipynb>data table notebook</a>'\n",
              "            + ' to learn more about interactive tables.';\n",
              "          element.innerHTML = '';\n",
              "          dataTable['output_type'] = 'display_data';\n",
              "          await google.colab.output.renderOutput(dataTable, element);\n",
              "          const docLink = document.createElement('div');\n",
              "          docLink.innerHTML = docLinkHtml;\n",
              "          element.appendChild(docLink);\n",
              "        }\n",
              "      </script>\n",
              "    </div>\n",
              "  </div>\n",
              "  "
            ]
          },
          "metadata": {},
          "execution_count": 24
        }
      ]
    },
    {
      "cell_type": "code",
      "source": [
        "clean_data_1['sentiment'] = clean_data_1['compound'].apply(lambda x: 'positive' if x>0 else 'neutral' if x ==0 else 'negative')"
      ],
      "metadata": {
        "id": "0t48bzmDxPJy"
      },
      "execution_count": null,
      "outputs": []
    },
    {
      "cell_type": "code",
      "source": [
        "clean_data_1.head()"
      ],
      "metadata": {
        "colab": {
          "base_uri": "https://localhost:8080/",
          "height": 206
        },
        "id": "Zs6XkM7o1qcB",
        "outputId": "2be4594e-ee06-4caa-be33-f1a9775ab404"
      },
      "execution_count": null,
      "outputs": [
        {
          "output_type": "execute_result",
          "data": {
            "text/plain": [
              "     neg    neu    pos  compound  \\\n",
              "0  0.000  1.000  0.000    0.0000   \n",
              "1  0.000  0.556  0.444    0.7906   \n",
              "2  0.213  0.787  0.000   -0.4019   \n",
              "3  0.261  0.424  0.315   -0.0258   \n",
              "4  0.000  1.000  0.000    0.0000   \n",
              "\n",
              "                                                   0  \\\n",
              "0  narrating documentary narrators hear saying cu...   \n",
              "1  telling daughter garlic good good immune syste...   \n",
              "2  going really rough period work week fault swap...   \n",
              "3  could dinner anyone dead alive would choose al...   \n",
              "4                  two guys walk bar third guy ducks   \n",
              "\n",
              "                                            polarity sentiment  \n",
              "0  {'neg': 0.0, 'neu': 1.0, 'pos': 0.0, 'compound...   neutral  \n",
              "1  {'neg': 0.0, 'neu': 0.556, 'pos': 0.444, 'comp...  positive  \n",
              "2  {'neg': 0.213, 'neu': 0.787, 'pos': 0.0, 'comp...  negative  \n",
              "3  {'neg': 0.261, 'neu': 0.424, 'pos': 0.315, 'co...  negative  \n",
              "4  {'neg': 0.0, 'neu': 1.0, 'pos': 0.0, 'compound...   neutral  "
            ],
            "text/html": [
              "\n",
              "  <div id=\"df-43d4f220-a52c-42bd-b63c-e5a02a04e839\">\n",
              "    <div class=\"colab-df-container\">\n",
              "      <div>\n",
              "<style scoped>\n",
              "    .dataframe tbody tr th:only-of-type {\n",
              "        vertical-align: middle;\n",
              "    }\n",
              "\n",
              "    .dataframe tbody tr th {\n",
              "        vertical-align: top;\n",
              "    }\n",
              "\n",
              "    .dataframe thead th {\n",
              "        text-align: right;\n",
              "    }\n",
              "</style>\n",
              "<table border=\"1\" class=\"dataframe\">\n",
              "  <thead>\n",
              "    <tr style=\"text-align: right;\">\n",
              "      <th></th>\n",
              "      <th>neg</th>\n",
              "      <th>neu</th>\n",
              "      <th>pos</th>\n",
              "      <th>compound</th>\n",
              "      <th>0</th>\n",
              "      <th>polarity</th>\n",
              "      <th>sentiment</th>\n",
              "    </tr>\n",
              "  </thead>\n",
              "  <tbody>\n",
              "    <tr>\n",
              "      <th>0</th>\n",
              "      <td>0.000</td>\n",
              "      <td>1.000</td>\n",
              "      <td>0.000</td>\n",
              "      <td>0.0000</td>\n",
              "      <td>narrating documentary narrators hear saying cu...</td>\n",
              "      <td>{'neg': 0.0, 'neu': 1.0, 'pos': 0.0, 'compound...</td>\n",
              "      <td>neutral</td>\n",
              "    </tr>\n",
              "    <tr>\n",
              "      <th>1</th>\n",
              "      <td>0.000</td>\n",
              "      <td>0.556</td>\n",
              "      <td>0.444</td>\n",
              "      <td>0.7906</td>\n",
              "      <td>telling daughter garlic good good immune syste...</td>\n",
              "      <td>{'neg': 0.0, 'neu': 0.556, 'pos': 0.444, 'comp...</td>\n",
              "      <td>positive</td>\n",
              "    </tr>\n",
              "    <tr>\n",
              "      <th>2</th>\n",
              "      <td>0.213</td>\n",
              "      <td>0.787</td>\n",
              "      <td>0.000</td>\n",
              "      <td>-0.4019</td>\n",
              "      <td>going really rough period work week fault swap...</td>\n",
              "      <td>{'neg': 0.213, 'neu': 0.787, 'pos': 0.0, 'comp...</td>\n",
              "      <td>negative</td>\n",
              "    </tr>\n",
              "    <tr>\n",
              "      <th>3</th>\n",
              "      <td>0.261</td>\n",
              "      <td>0.424</td>\n",
              "      <td>0.315</td>\n",
              "      <td>-0.0258</td>\n",
              "      <td>could dinner anyone dead alive would choose al...</td>\n",
              "      <td>{'neg': 0.261, 'neu': 0.424, 'pos': 0.315, 'co...</td>\n",
              "      <td>negative</td>\n",
              "    </tr>\n",
              "    <tr>\n",
              "      <th>4</th>\n",
              "      <td>0.000</td>\n",
              "      <td>1.000</td>\n",
              "      <td>0.000</td>\n",
              "      <td>0.0000</td>\n",
              "      <td>two guys walk bar third guy ducks</td>\n",
              "      <td>{'neg': 0.0, 'neu': 1.0, 'pos': 0.0, 'compound...</td>\n",
              "      <td>neutral</td>\n",
              "    </tr>\n",
              "  </tbody>\n",
              "</table>\n",
              "</div>\n",
              "      <button class=\"colab-df-convert\" onclick=\"convertToInteractive('df-43d4f220-a52c-42bd-b63c-e5a02a04e839')\"\n",
              "              title=\"Convert this dataframe to an interactive table.\"\n",
              "              style=\"display:none;\">\n",
              "        \n",
              "  <svg xmlns=\"http://www.w3.org/2000/svg\" height=\"24px\"viewBox=\"0 0 24 24\"\n",
              "       width=\"24px\">\n",
              "    <path d=\"M0 0h24v24H0V0z\" fill=\"none\"/>\n",
              "    <path d=\"M18.56 5.44l.94 2.06.94-2.06 2.06-.94-2.06-.94-.94-2.06-.94 2.06-2.06.94zm-11 1L8.5 8.5l.94-2.06 2.06-.94-2.06-.94L8.5 2.5l-.94 2.06-2.06.94zm10 10l.94 2.06.94-2.06 2.06-.94-2.06-.94-.94-2.06-.94 2.06-2.06.94z\"/><path d=\"M17.41 7.96l-1.37-1.37c-.4-.4-.92-.59-1.43-.59-.52 0-1.04.2-1.43.59L10.3 9.45l-7.72 7.72c-.78.78-.78 2.05 0 2.83L4 21.41c.39.39.9.59 1.41.59.51 0 1.02-.2 1.41-.59l7.78-7.78 2.81-2.81c.8-.78.8-2.07 0-2.86zM5.41 20L4 18.59l7.72-7.72 1.47 1.35L5.41 20z\"/>\n",
              "  </svg>\n",
              "      </button>\n",
              "      \n",
              "  <style>\n",
              "    .colab-df-container {\n",
              "      display:flex;\n",
              "      flex-wrap:wrap;\n",
              "      gap: 12px;\n",
              "    }\n",
              "\n",
              "    .colab-df-convert {\n",
              "      background-color: #E8F0FE;\n",
              "      border: none;\n",
              "      border-radius: 50%;\n",
              "      cursor: pointer;\n",
              "      display: none;\n",
              "      fill: #1967D2;\n",
              "      height: 32px;\n",
              "      padding: 0 0 0 0;\n",
              "      width: 32px;\n",
              "    }\n",
              "\n",
              "    .colab-df-convert:hover {\n",
              "      background-color: #E2EBFA;\n",
              "      box-shadow: 0px 1px 2px rgba(60, 64, 67, 0.3), 0px 1px 3px 1px rgba(60, 64, 67, 0.15);\n",
              "      fill: #174EA6;\n",
              "    }\n",
              "\n",
              "    [theme=dark] .colab-df-convert {\n",
              "      background-color: #3B4455;\n",
              "      fill: #D2E3FC;\n",
              "    }\n",
              "\n",
              "    [theme=dark] .colab-df-convert:hover {\n",
              "      background-color: #434B5C;\n",
              "      box-shadow: 0px 1px 3px 1px rgba(0, 0, 0, 0.15);\n",
              "      filter: drop-shadow(0px 1px 2px rgba(0, 0, 0, 0.3));\n",
              "      fill: #FFFFFF;\n",
              "    }\n",
              "  </style>\n",
              "\n",
              "      <script>\n",
              "        const buttonEl =\n",
              "          document.querySelector('#df-43d4f220-a52c-42bd-b63c-e5a02a04e839 button.colab-df-convert');\n",
              "        buttonEl.style.display =\n",
              "          google.colab.kernel.accessAllowed ? 'block' : 'none';\n",
              "\n",
              "        async function convertToInteractive(key) {\n",
              "          const element = document.querySelector('#df-43d4f220-a52c-42bd-b63c-e5a02a04e839');\n",
              "          const dataTable =\n",
              "            await google.colab.kernel.invokeFunction('convertToInteractive',\n",
              "                                                     [key], {});\n",
              "          if (!dataTable) return;\n",
              "\n",
              "          const docLinkHtml = 'Like what you see? Visit the ' +\n",
              "            '<a target=\"_blank\" href=https://colab.research.google.com/notebooks/data_table.ipynb>data table notebook</a>'\n",
              "            + ' to learn more about interactive tables.';\n",
              "          element.innerHTML = '';\n",
              "          dataTable['output_type'] = 'display_data';\n",
              "          await google.colab.output.renderOutput(dataTable, element);\n",
              "          const docLink = document.createElement('div');\n",
              "          docLink.innerHTML = docLinkHtml;\n",
              "          element.appendChild(docLink);\n",
              "        }\n",
              "      </script>\n",
              "    </div>\n",
              "  </div>\n",
              "  "
            ]
          },
          "metadata": {},
          "execution_count": 26
        }
      ]
    },
    {
      "cell_type": "code",
      "source": [
        "import seaborn as sns\n",
        "sns.countplot(y = 'sentiment', \n",
        "              data = clean_data_1, \n",
        "              palette = ['#b2d8d8',\"#008080\", '#db3d13'])\n"
      ],
      "metadata": {
        "colab": {
          "base_uri": "https://localhost:8080/",
          "height": 297
        },
        "id": "s9icBHuy2CVY",
        "outputId": "ad73b02f-8747-44fb-98f2-6c3de38cfb58"
      },
      "execution_count": null,
      "outputs": [
        {
          "output_type": "execute_result",
          "data": {
            "text/plain": [
              "<matplotlib.axes._subplots.AxesSubplot at 0x7f8c70a08650>"
            ]
          },
          "metadata": {},
          "execution_count": 30
        },
        {
          "output_type": "display_data",
          "data": {
            "text/plain": [
              "<Figure size 432x288 with 1 Axes>"
            ],
            "image/png": "[encoded data removed]"
          },
          "metadata": {
            "needs_background": "light"
          }
        }
      ]
    },
    {
      "cell_type": "code",
      "source": [],
      "metadata": {
        "id": "nSjauDNC2ym-"
      },
      "execution_count": null,
      "outputs": []
    }
  ]
}